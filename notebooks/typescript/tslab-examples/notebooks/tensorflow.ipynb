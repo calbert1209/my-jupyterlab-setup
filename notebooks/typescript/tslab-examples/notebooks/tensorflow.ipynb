{
 "cells": [
  {
   "cell_type": "markdown",
   "metadata": {},
   "source": [
    "## Tensorflow.js\n",
    "\n",
    "In this notebooks, we build and train [a deep CNN model](https://developers.google.com/machine-learning/glossary/#convolutional_neural_network) using TensorFlow.js and visualize the predictions from the trained model on MNIST datasets.\n",
    "You can build and train deep neural network machine learning mode with tslab and Tensorflow.js without using Python.\n",
    "\n",
    "### Tensorflow.js references\n",
    "\n",
    "- [TensorFlow.js in Node](https://www.tensorflow.org/js/guide/nodejs)\n",
    "- [Get Started | Tensorflow.js](https://www.tensorflow.org/js/tutorials)\n",
    "\n",
    "### Disclaimer\n",
    "\n",
    "Don't run this notebook on mybinder.org.\n",
    "The training of the CNN model in this notebook is very heavy and it will not finish on mybinder.org.\n",
    "Please try this notebook in your local environment with enough CPU power."
   ]
  },
  {
   "cell_type": "code",
   "execution_count": null,
   "metadata": {},
   "outputs": [],
   "source": [
    "/**\n",
    " * Copyright 2018 Google LLC. All Rights Reserved.\n",
    " * Licensed under the Apache License, Version 2.0 (the \"License\");\n",
    " * you may not use this file except in compliance with the License.\n",
    " * You may obtain a copy of the License at\n",
    " *\n",
    " * http://www.apache.org/licenses/LICENSE-2.0\n",
    " *\n",
    " * Unless required by applicable law or agreed to in writing, software\n",
    " * distributed under the License is distributed on an \"AS IS\" BASIS,\n",
    " * WITHOUT WARRANTIES OR CONDITIONS OF ANY KIND, either express or implied.\n",
    " * See the License for the specific language governing permissions and\n",
    " * limitations under the License.\n",
    " * =============================================================================\n",
    " *\n",
    " * This code was branched from\n",
    " * https://github.com/tensorflow/tfjs-examples/blob/master/mnist-node/\n",
    " * to demostrate Tensorflow in tslab.\n",
    " */\n",
    "\n",
    "import * as tf from '@tensorflow/tfjs-node'\n",
    "import Jimp from 'jimp';\n",
    "import {promisify} from 'util';\n",
    "import {dataset as mnist} from '../lib/mnist';\n",
    "import {display} from 'tslab';\n",
    "import * as tslab from 'tslab';"
   ]
  },
  {
   "cell_type": "code",
   "execution_count": null,
   "metadata": {},
   "outputs": [
    {
     "data": {
      "text/html": [
       "<h3>TensorFlow.js versions</h3>"
      ]
     },
     "metadata": {},
     "output_type": "display_data"
    },
    {
     "name": "stdout",
     "output_type": "stream",
     "text": [
      "{\n",
      "  \u001b[32m'tfjs-core'\u001b[39m: \u001b[32m'1.3.1'\u001b[39m,\n",
      "  \u001b[32m'tfjs-data'\u001b[39m: \u001b[32m'1.3.1'\u001b[39m,\n",
      "  \u001b[32m'tfjs-layers'\u001b[39m: \u001b[32m'1.3.1'\u001b[39m,\n",
      "  \u001b[32m'tfjs-converter'\u001b[39m: \u001b[32m'1.3.1'\u001b[39m,\n",
      "  tfjs: \u001b[32m'1.3.1'\u001b[39m,\n",
      "  \u001b[32m'tfjs-node'\u001b[39m: \u001b[32m'1.3.1'\u001b[39m\n",
      "}\n"
     ]
    },
    {
     "data": {
      "text/html": [
       "<h3>tslab versions</h3>"
      ]
     },
     "metadata": {},
     "output_type": "display_data"
    },
    {
     "name": "stdout",
     "output_type": "stream",
     "text": [
      "{ tslab: \u001b[32m'1.0.7'\u001b[39m, typescript: \u001b[32m'3.7.3'\u001b[39m, node: \u001b[32m'v12.13.0'\u001b[39m }\n"
     ]
    }
   ],
   "source": [
    "display.html('<h3>TensorFlow.js versions</h3>')\n",
    "console.log(tf.version)\n",
    "display.html('<h3>tslab versions</h3>')\n",
    "console.log(tslab.versions);"
   ]
  },
  {
   "cell_type": "code",
   "execution_count": null,
   "metadata": {},
   "outputs": [],
   "source": [
    "await mnist.loadData();"
   ]
  },
  {
   "cell_type": "code",
   "execution_count": null,
   "metadata": {},
   "outputs": [],
   "source": [
    "async function toPng(images: tf.Tensor4D, start: number, size: number): Promise<Buffer[]> {\n",
    "    // Note: mnist.getTrainData().images.slice([index], [1]) is slow.\n",
    "    let arry = images.slice([start], [size]).flatten().arraySync();\n",
    "    let ret: Buffer[] = [];\n",
    "    for (let i = 0; i < size; i++) {\n",
    "        let raw = [];\n",
    "        for (const v of arry.slice(i * 28 * 28, (i+1)*28*28)) {\n",
    "            raw.push(...[v*255, v*255, v*255, 255])\n",
    "        }\n",
    "        let img = await promisify((cb: (err, v: Jimp)=>any) => {\n",
    "            new Jimp({ data: Buffer.from(raw), width: 28, height: 28 }, cb);\n",
    "        })();\n",
    "        ret.push(await img.getBufferAsync(Jimp.MIME_PNG));\n",
    "    }\n",
    "    return ret;\n",
    "}"
   ]
  },
  {
   "cell_type": "code",
   "execution_count": null,
   "metadata": {},
   "outputs": [],
   "source": [
    "const model = tf.sequential();\n",
    "model.add(tf.layers.conv2d({\n",
    "  inputShape: [28, 28, 1],\n",
    "  filters: 32,\n",
    "  kernelSize: 3,\n",
    "  activation: 'relu',\n",
    "}));\n",
    "model.add(tf.layers.conv2d({\n",
    "  filters: 32,\n",
    "  kernelSize: 3,\n",
    "  activation: 'relu',\n",
    "}));\n",
    "model.add(tf.layers.maxPooling2d({poolSize: [2, 2]}));\n",
    "model.add(tf.layers.conv2d({\n",
    "  filters: 64,\n",
    "  kernelSize: 3,\n",
    "  activation: 'relu',\n",
    "}));\n",
    "model.add(tf.layers.conv2d({\n",
    "  filters: 64,\n",
    "  kernelSize: 3,\n",
    "  activation: 'relu',\n",
    "}));\n",
    "model.add(tf.layers.maxPooling2d({poolSize: [2, 2]}));\n",
    "model.add(tf.layers.flatten());\n",
    "model.add(tf.layers.dropout({rate: 0.25}));\n",
    "model.add(tf.layers.dense({units: 512, activation: 'relu'}));\n",
    "model.add(tf.layers.dropout({rate: 0.5}));\n",
    "model.add(tf.layers.dense({units: 10, activation: 'softmax'}));\n",
    "\n",
    "const optimizer = 'rmsprop';\n",
    "model.compile({\n",
    "  optimizer: optimizer,\n",
    "  loss: 'categoricalCrossentropy',\n",
    "  metrics: ['accuracy'],\n",
    "});"
   ]
  },
  {
   "cell_type": "code",
   "execution_count": null,
   "metadata": {},
   "outputs": [],
   "source": [
    "async function train(epochs, batchSize, modelSavePath) {\n",
    "  const {images: trainImages, labels: trainLabels} = mnist.getTrainData();\n",
    "  model.summary();\n",
    "\n",
    "  let epochBeginTime;\n",
    "  let millisPerStep;\n",
    "  const validationSplit = 0.15;\n",
    "  const numTrainExamplesPerEpoch =\n",
    "      trainImages.shape[0] * (1 - validationSplit);\n",
    "  const numTrainBatchesPerEpoch =\n",
    "      Math.ceil(numTrainExamplesPerEpoch / batchSize);\n",
    "  await model.fit(trainImages, trainLabels, {\n",
    "    epochs,\n",
    "    batchSize,\n",
    "    validationSplit\n",
    "  });\n",
    "\n",
    "  const {images: testImages, labels: testLabels} = mnist.getTestData();\n",
    "  const evalOutput = model.evaluate(testImages, testLabels);\n",
    "\n",
    "  console.log(\n",
    "      `\\nEvaluation result:\\n` +\n",
    "      `  Loss = ${evalOutput[0].dataSync()[0].toFixed(3)}; `+\n",
    "      `Accuracy = ${evalOutput[1].dataSync()[0].toFixed(3)}`);\n",
    "\n",
    "  if (modelSavePath != null) {\n",
    "    await model.save(`file://${modelSavePath}`);\n",
    "    console.log(`Saved model to path: ${modelSavePath}`);\n",
    "  }\n",
    "}"
   ]
  },
  {
   "cell_type": "code",
   "execution_count": null,
   "metadata": {},
   "outputs": [
    {
     "name": "stdout",
     "output_type": "stream",
     "text": [
      "_________________________________________________________________\n",
      "Layer (type)                 Output shape              Param #   \n",
      "=================================================================\n",
      "conv2d_Conv2D1 (Conv2D)      [null,26,26,32]           320       \n",
      "_________________________________________________________________\n",
      "conv2d_Conv2D2 (Conv2D)      [null,24,24,32]           9248      \n",
      "_________________________________________________________________\n",
      "max_pooling2d_MaxPooling2D1  [null,12,12,32]           0         \n",
      "_________________________________________________________________\n",
      "conv2d_Conv2D3 (Conv2D)      [null,10,10,64]           18496     \n",
      "_________________________________________________________________\n",
      "conv2d_Conv2D4 (Conv2D)      [null,8,8,64]             36928     \n",
      "_________________________________________________________________\n",
      "max_pooling2d_MaxPooling2D2  [null,4,4,64]             0         \n",
      "_________________________________________________________________\n",
      "flatten_Flatten1 (Flatten)   [null,1024]               0         \n",
      "_________________________________________________________________\n",
      "dropout_Dropout1 (Dropout)   [null,1024]               0         \n",
      "_________________________________________________________________\n",
      "dense_Dense1 (Dense)         [null,512]                524800    \n",
      "_________________________________________________________________\n",
      "dropout_Dropout2 (Dropout)   [null,512]                0         \n",
      "_________________________________________________________________\n",
      "dense_Dense2 (Dense)         [null,10]                 5130      \n",
      "=================================================================\n",
      "Total params: 594922\n",
      "Trainable params: 594922\n",
      "Non-trainable params: 0\n",
      "_________________________________________________________________\n",
      "Epoch 1 / 20\n"
     ]
    },
    {
     "name": "stderr",
     "output_type": "stream",
     "text": [
      "\n"
     ]
    },
    {
     "name": "stdout",
     "output_type": "stream",
     "text": [
      "40717ms 798us/step - acc=0.920 loss=0.245 val_acc=0.979 val_loss=0.0735 \n",
      "Epoch 2 / 20\n"
     ]
    },
    {
     "name": "stderr",
     "output_type": "stream",
     "text": [
      "\n"
     ]
    },
    {
     "name": "stdout",
     "output_type": "stream",
     "text": [
      "39984ms 784us/step - acc=0.980 loss=0.0674 val_acc=0.990 val_loss=0.0360 \n",
      "Epoch 3 / 20\n"
     ]
    },
    {
     "name": "stderr",
     "output_type": "stream",
     "text": [
      "\n"
     ]
    },
    {
     "name": "stdout",
     "output_type": "stream",
     "text": [
      "40109ms 786us/step - acc=0.985 loss=0.0491 val_acc=0.990 val_loss=0.0371 \n",
      "Epoch 4 / 20\n"
     ]
    },
    {
     "name": "stderr",
     "output_type": "stream",
     "text": [
      "\n"
     ]
    },
    {
     "name": "stdout",
     "output_type": "stream",
     "text": [
      "42172ms 827us/step - acc=0.988 loss=0.0379 val_acc=0.992 val_loss=0.0294 \n",
      "Epoch 5 / 20\n"
     ]
    },
    {
     "name": "stderr",
     "output_type": "stream",
     "text": [
      "\n"
     ]
    },
    {
     "name": "stdout",
     "output_type": "stream",
     "text": [
      "42451ms 832us/step - acc=0.990 loss=0.0320 val_acc=0.992 val_loss=0.0285 \n",
      "Epoch 6 / 20\n"
     ]
    },
    {
     "name": "stderr",
     "output_type": "stream",
     "text": [
      "\n"
     ]
    },
    {
     "name": "stdout",
     "output_type": "stream",
     "text": [
      "42674ms 837us/step - acc=0.991 loss=0.0283 val_acc=0.987 val_loss=0.0481 \n",
      "Epoch 7 / 20\n"
     ]
    },
    {
     "name": "stderr",
     "output_type": "stream",
     "text": [
      "\n"
     ]
    },
    {
     "name": "stdout",
     "output_type": "stream",
     "text": [
      "42504ms 833us/step - acc=0.993 loss=0.0234 val_acc=0.992 val_loss=0.0263 \n",
      "Epoch 8 / 20\n"
     ]
    },
    {
     "name": "stderr",
     "output_type": "stream",
     "text": [
      "\n"
     ]
    },
    {
     "name": "stdout",
     "output_type": "stream",
     "text": [
      "43120ms 845us/step - acc=0.993 loss=0.0218 val_acc=0.993 val_loss=0.0263 \n",
      "Epoch 9 / 20\n"
     ]
    },
    {
     "name": "stderr",
     "output_type": "stream",
     "text": [
      "\n"
     ]
    },
    {
     "name": "stdout",
     "output_type": "stream",
     "text": [
      "42818ms 840us/step - acc=0.994 loss=0.0191 val_acc=0.993 val_loss=0.0274 \n",
      "Epoch 10 / 20\n"
     ]
    },
    {
     "name": "stderr",
     "output_type": "stream",
     "text": [
      "\n"
     ]
    },
    {
     "name": "stdout",
     "output_type": "stream",
     "text": [
      "43198ms 847us/step - acc=0.994 loss=0.0177 val_acc=0.994 val_loss=0.0213 \n",
      "Epoch 11 / 20\n"
     ]
    },
    {
     "name": "stderr",
     "output_type": "stream",
     "text": [
      "\n"
     ]
    },
    {
     "name": "stdout",
     "output_type": "stream",
     "text": [
      "43481ms 853us/step - acc=0.995 loss=0.0150 val_acc=0.994 val_loss=0.0253 \n",
      "Epoch 12 / 20\n"
     ]
    },
    {
     "name": "stderr",
     "output_type": "stream",
     "text": [
      "\n"
     ]
    },
    {
     "name": "stdout",
     "output_type": "stream",
     "text": [
      "43164ms 846us/step - acc=0.995 loss=0.0154 val_acc=0.994 val_loss=0.0263 \n",
      "Epoch 13 / 20\n"
     ]
    },
    {
     "name": "stderr",
     "output_type": "stream",
     "text": [
      "\n"
     ]
    },
    {
     "name": "stdout",
     "output_type": "stream",
     "text": [
      "42980ms 843us/step - acc=0.995 loss=0.0135 val_acc=0.994 val_loss=0.0251 \n",
      "Epoch 14 / 20\n"
     ]
    },
    {
     "name": "stderr",
     "output_type": "stream",
     "text": [
      "\n"
     ]
    },
    {
     "name": "stdout",
     "output_type": "stream",
     "text": [
      "43289ms 849us/step - acc=0.996 loss=0.0126 val_acc=0.994 val_loss=0.0255 \n",
      "Epoch 15 / 20\n"
     ]
    },
    {
     "name": "stderr",
     "output_type": "stream",
     "text": [
      "\n"
     ]
    },
    {
     "name": "stdout",
     "output_type": "stream",
     "text": [
      "43104ms 845us/step - acc=0.996 loss=0.0113 val_acc=0.992 val_loss=0.0333 \n",
      "Epoch 16 / 20\n"
     ]
    },
    {
     "name": "stderr",
     "output_type": "stream",
     "text": [
      "\n"
     ]
    },
    {
     "name": "stdout",
     "output_type": "stream",
     "text": [
      "43385ms 851us/step - acc=0.997 loss=0.0102 val_acc=0.993 val_loss=0.0320 \n",
      "Epoch 17 / 20\n"
     ]
    },
    {
     "name": "stderr",
     "output_type": "stream",
     "text": [
      "\n"
     ]
    },
    {
     "name": "stdout",
     "output_type": "stream",
     "text": [
      "43223ms 848us/step - acc=0.996 loss=0.0106 val_acc=0.993 val_loss=0.0308 \n",
      "Epoch 18 / 20\n"
     ]
    },
    {
     "name": "stderr",
     "output_type": "stream",
     "text": [
      "\n"
     ]
    },
    {
     "name": "stdout",
     "output_type": "stream",
     "text": [
      "43164ms 846us/step - acc=0.997 loss=9.44e-3 val_acc=0.994 val_loss=0.0329 \n",
      "Epoch 19 / 20\n"
     ]
    },
    {
     "name": "stderr",
     "output_type": "stream",
     "text": [
      "\n"
     ]
    },
    {
     "name": "stdout",
     "output_type": "stream",
     "text": [
      "43324ms 849us/step - acc=0.997 loss=8.45e-3 val_acc=0.994 val_loss=0.0319 \n",
      "Epoch 20 / 20\n"
     ]
    },
    {
     "name": "stderr",
     "output_type": "stream",
     "text": [
      "\n"
     ]
    },
    {
     "name": "stdout",
     "output_type": "stream",
     "text": [
      "42775ms 839us/step - acc=0.997 loss=8.62e-3 val_acc=0.994 val_loss=0.0270 \n",
      "\n",
      "Evaluation result:\n",
      "  Loss = 0.021; Accuracy = 0.994\n",
      "Saved model to path: mnist\n",
      "\u001b[90mundefined\u001b[39m\n"
     ]
    }
   ],
   "source": [
    "// Hack to suppress the progress bar\n",
    "process.stderr.isTTY = false;\n",
    "\n",
    "const epochs = 20;\n",
    "const batchSize = 128;\n",
    "const modelSavePath = 'mnist'\n",
    "await train(epochs, batchSize, modelSavePath);"
   ]
  },
  {
   "cell_type": "code",
   "execution_count": null,
   "metadata": {},
   "outputs": [],
   "source": [
    "const predicted =\n",
    "      tf.argMax(model.predict(mnist.getTestData().images) as tf.Tensor, 1).arraySync() as number[];"
   ]
  },
  {
   "cell_type": "code",
   "execution_count": null,
   "metadata": {},
   "outputs": [
    {
     "data": {
      "text/html": [
       "<div style=\"display:flex;flex-wrap:wrap;max-width:480px\">\n",
       "<div>\n",
       "<img src=\"data:image/png;base64,iVBORw0KGgoAAAANSUhEUgAAABwAAAAcCAYAAAByDd+UAAAClUlEQVR4Ab3BTyizcQDA8e9++8WK52LF1FPOUnJYSTE7LS7iMM9hdmV2EK3kxpGDg3KRg7i6cBryRP6lJAeJ1C4rUU9pM2Gj53nbQa0n3meofT4uwKKCBBUm+KHp6WlSqRR+v5/fEPxAMBhkeHgY0zTx+/38hqRMiqKwvr7O6uoqU1NTWJbFb0jKNDo6ytvbG/Pz83x8fPBbgjJNTk6ytrbG/f09fyEog6IoVFdXc3Nzw18JytDT00PR1tYWfyUoQywWI5/PYxgGfyVx4HK58Hq96LrOd4LBIJqmUZTJZDg8PCSZTGJZFnYSB42NjbS2tjI3N4ddVVUVs7OzjI+Pk06nyeVypNNp4vE44XCYnZ0d7CRlMgyDUkIIlpeXiUajxONxVlZWyOfzFPX397O0tERbWxvZbJZSEgdNTU0UnZ2dUWpxcZFQKEQoFELXdSzL4tP29jYej4eamhqy2SylBA7q6+ux8/l89PX1EYlE2N3dxbIsSr2+vpJKpejq6sJO4KBQKFCkqiqfhoaGaGho4Pj4mP9RFAU7gYOjoyMeHh6IxWJ8Oj09RUpJd3c3X5FSoigKmUwGO4GDXC7H3d0d4XAYKSVFj4+PmKaJlJKvjI2N4fP50HUdOzcwg4Onpyei0Sher5dkMolhGKiqSiKRoK6ujo6ODgKBAEIIAoEACwsLDAwMcH19jZ0bmMHB1dUVLS0tRCIRFEXh8vKSjY0Nbm9vKRQKvLy88P7+TmdnJ729vWiaxsnJCV9xAzOUYXNzk9raWiYmJtA0DVVVcbvdeDweNE1jZGSE5+dnEokEFxcXfMcFWPxAe3s7g4ODBAIBmpub2d/f5/z8nIODA/b29jBNk/9xARYVJKgwQYUJKkxQYYIK+wcxFO8x7cy4TAAAAABJRU5ErkJggg==\">\n",
       "<div style=\"text-align:center\">6</div>\n",
       "</div>\n",
       "<div>\n",
       "<img src=\"data:image/png;base64,iVBORw0KGgoAAAANSUhEUgAAABwAAAAcCAYAAAByDd+UAAADEUlEQVR4Ab3Bzyu7DwDA8ffzPBP5kV9Da4042EZc5ozDFCsnieQyOchFyMFpyBriL8BBUlockDhIQtwMW4TE8iuzlB9TNnq+OXzq29oe+3wOe70EQCaOROJMJM5E4kwkzlT8g+LiYqanpyksLKS1tZWsrCwsFgv9/f08PT2hRABk/oLRaGRtbQ2dTocgCIRCIS4uLjAajbjdbsxmM36/n2gkYIAYjY6O0tPTg8Fg4P7+nuvrazQaDSMjIxQUFFBaWkpNTQ2zs7N8fX0RiQQMEAOHw0F3dzdarRan00l7eztarRa/38/Q0BCvr6+YzWZ0Oh0bGxt4vV4ikYABftHW1sbY2BiiKHJ8fExHRwfn5+esrq4yNzfHx8cHbrebo6Mj8vLy6OrqYnd3l5ubG8KJ/KKsrIypqSkEQUAQBBobG7m8vCRcMBhkaWmJxcVFMjMzsdlsRKJCQU5ODisrK8iyzI/h4WGurq5QMjk5SXl5ObW1taSmpvL+/s7/iSjIyMhAp9PxY2ZmBofDwff3N0pCoRALCwvk5eVRVFREOBUK9Ho9f1itVmL1+fnJy8sLPp+PcCIKGhoa+BcVFRUkJSWRkpJCOBEFWq0WQRB4eHjgb+zt7SFJEiqVinAiUZhMJqqrq5Flmc7OTmJVUlLC8vIyd3d3nJ2dEU4kCpVKhSRJ/AgGg8Sqvr4etVqN2+0mEpEoHh8f8fl8/EhLSyMWBoOB3t5efoyPjxOJSBTX19c0NTXxY35+nt8YDAYmJiZQq9Wsr6/j8XiIRETB5eUlp6enCIKA0+kkISGBaGw2G3V1dfj9fpqbmwkEAkQiAQNE8fb2hiRJ1NbWUlpayu3tLScnJ3x9ffGHyWTCbrfT1NTE8/MzdrudnZ0dohEAGQW5ubn09fXR29uLLMt4vV48Hg8HBwe0tLSgVqtJT0/H5/NhsVhwuVwokYABFAQCAVwuF4mJieTn56PRaNDr9VRVVZGdnY0kSWxvbzM4OMjm5ia/EQCZv1BZWUlycjJWq5WtrS0ODw/Z398nVgIgE0cicSYSZ/8BgpoX+jF1Yn0AAAAASUVORK5CYII=\">\n",
       "<div style=\"text-align:center\">0</div>\n",
       "</div>\n",
       "<div>\n",
       "<img src=\"data:image/png;base64,iVBORw0KGgoAAAANSUhEUgAAABwAAAAcCAYAAAByDd+UAAAC/0lEQVR4Ab3Bzyv7fwDA8ed7e5coacPYDoqsFhfLgRSaubCVnJartOIPWC5bq+Xg5LCTH6WIIqUlCYUd1lyslMuWcrCsVquxZbzb9vq2w0rrax+j9nhIgKCOVNSZijpTUWcq6kxFncnUoKOjg1QqRT6fp6GhAZ1OR8n4+Dhms5kyp9PJy8sLJS6Xi0AgQJnMPzidTiYnJymxWCyEw2E+Pj7QarVYLBZKJElCCEGZJEn09vZSMjo6SiAQoEymCqvVysrKCm1tbRSLRUpsNhuSJCGE4OrqilQqhSRJCCE4ODggkUig0+k4Pj4mHo+zvb3NVzLfMBgMbG1todVqubm5Qa/XYzQaiUQi+Hw+IpEIyWQSRVGoJMsys7OzhEIhUqkUX6kBLxX6+vp4fHxEo9EQDAaxWCyEw2Gmp6exWq3c3d3x9vZGoVDg/xSLRaLRKLlcjkpqwEuF5eVlhoeHEUKgKApjY2O8vr6yvr5OLpcjnU7zW2rAS4V0Os3CwgIlra2t9Pf3MzMzw/z8PA6Hg/b2dkqenp6olQQIKsiyTGdnJ1/p9Xrcbjc2mw1Jkvj8/MTv93N6ekowGOSnJEBQg8HBQex2Oy6Xi8bGRkp8Ph+rq6u8v7/zL2rASw0SiQTBYJDr62s0Gg09PT1MTExgMpk4OztDURSqUQNefiEej3N4eEhLSwsjIyOYTCai0Sj39/dUowa8/MHt7S3Pz8/YbDa6u7vZ399HURS+o+KPMpkM2WwWSZIYGBjAYrFQjcwfGQwG3G43QghKIpEI1cj8gdVqZW1tDaPRiBACp9NJMpmkGplfstvt+P1+urq6KNnc3GR3dxdFUahGpoqpqSkuLy/J5/OUGQwGTk5OMJvNlGSzWfb29lhcXOQnZKpwu90MDQ1xfn6OXq/H4XBgs9loampCCMHDwwNLS0uEQiF+SqaKWCyG2+3G4/EghKAsl8uxsbGBx+Mhk8lQCzXg5RsXFxcUCgWam5vR6/XEYjF2dnaYm5vj6OgIRVGolQQI6khFnf0HQHYuF3OgL7oAAAAASUVORK5CYII=\">\n",
       "<div style=\"text-align:center\">5</div>\n",
       "</div>\n",
       "<div>\n",
       "<img src=\"data:image/png;base64,iVBORw0KGgoAAAANSUhEUgAAABwAAAAcCAYAAAByDd+UAAAB50lEQVR4Ab3BP0tyYRjA4d/9cEwxUinwT0NTU1ODBc2uYSKe5Uy2Cn2BPkTQXkOTW1Obujm5CdEgguhmEQS6HETul7MdXurxgHKuSwAlRoaYGWJmiJlhR2q1GpPJhKurK2wMO1Kv1zk5OeHp6Qkbw46Uy2WiMFi4rsvr6ytnZ2dE1W63sTFY3N3dcXNzw+npKTaFQoFsNkvA931sDBaj0QgR4fb2FptMJkM6nUZE+Pz8xMawgaqSSCQwxvCXfD5PJpNBVXl7e8PGEMH5+Tn7+/vsgsHC8zwCnU6HxWLBXzzPIyqHX1xcXFCv10mlUgyHQx4fH7FJJpNE5RCSSCRoNBo8Pz+TSqUQEd7f3/F9n3Q6zfHxMePxmN+ICFE4hDw8PNBqtQioKgHP86hWq3x9fXF4eMh8PkdVCSuVSqgqvV6Pn58fbBxCKpUKYdPplGKxyMfHB5eXlwRyuRyqSpiIoKosl0vW6zU2DiHNZpPVasV8Psf3fXzfZ29vj+VyycHBAdfX14xGI5LJJNlsloDnebiuS1QOIYPBgL98f3/z8vLC/46OjnBdl6gctiQiiAgBEWETw5ZUFVVFVVFVNjFsaTabMZ1OicqwpW63S6/XIyrDDvT7fWazGff392wigBIjQ8wMMTPE7B+HdaOq8iFZcwAAAABJRU5ErkJggg==\">\n",
       "<div style=\"text-align:center\">4</div>\n",
       "</div>\n",
       "<div>\n",
       "<img src=\"data:image/png;base64,iVBORw0KGgoAAAANSUhEUgAAABwAAAAcCAYAAAByDd+UAAACK0lEQVR4Ab3BsUsyYQDA4d+93hSia0NQCGFLBDZq4CaYDiVttRjSZFANDoGE/0SQY0QtUolI1JaRkJBrDoIRHOqm4xHvxQ3Cx4ev3nDc82iAhYcEHhN4TOAxgccEHtNxIBAIUCqVOD4+RtM0LMvCVqvVyOfzfH9/45QPuGCGaDTK4+Mj29vb2CzLotlssrCwwMbGBvv7+1xeXmKaJk7ozLC1tUWtVsPv9zMYDDg9PaXb7dJut1lfX6dUKpFMJkmlUtzd3eGED7hgCr/fT6VSYWlpiVarRTqd5vX1FcMwkFLS7/dpNBocHBywt7fHy8sLhmEwjw+4YIpisUgmk0FKST6fp9ls8r/xeEy5XMZmGAa9Xo95dBR2dnawtVotqtUqKqPRiGKxiFMCheXlZWz1eh03CTymo3B7e0s2myWbzTIej/n8/OTt7Y1IJEIsFiMcDhOPx/nX9fU1nU6H+/t7VDTAYopgMMj7+ztra2vYTNPk5uaG3d1dgsEgKoZhsLm5yXA4ZBodhdFoxNnZGefn53x9fTFRqVSYuLq6QkrJxOHhIUdHRwQCAYbDIdPozPD09MTz8zNSSpx4eHjAlsvlKBQKTCOYQ0qJU5qmYRNCoCJwSTKZZHFxEdvHxwcqApesrq6iaRq2druNisAliUQCW6PRoNfroSJwmWma/P7+oiJwmc/nQwiBisAl/X4fWzweJxQKoaLjkpOTE1ZWVuh2u/z8/KCiARYeEnjsD4tJzszD+cXXAAAAAElFTkSuQmCC\">\n",
       "<div style=\"text-align:center\">9</div>\n",
       "</div>\n",
       "<div>\n",
       "<img src=\"data:image/png;base64,iVBORw0KGgoAAAANSUhEUgAAABwAAAAcCAYAAAByDd+UAAACMElEQVR4Ab3BvUsycQDA8a8/rwMhpMgpaAnyUByCuKWMFgt7GZ0d3BwbXAzxyEmof8A9aGvIQBykmhpzUcSgpUPFAjEy38BweOAZHu/uwbjPxwFMsJHAZgKbCWwmsJnAZgKbSfyHk5MTIpEIsiwz5fV6+fz8pNFocHZ2xuvrK2YcwAQTiUSCVCrF4uIif3t+fsblcqEoCoPBgGw2i6ZpGJEwcXBwQCaTQZZlnp6eSCaT1Ot1ptrtNpIksby8zOXlJYlEAofDQTqdZhaBAVmWSaVSLCwscH5+zuHhIff39+i6jq7rDIdDer0euq4Ti8X4/v4mGAxiRMLAxcUFOzs7XF9fo2kaRuLxOM1mk+PjY4wIDOzv79Pv98lkMhjZ29sjm83y9fVFv9/HiMBEt9ulWq0yy/r6OldXVwgheHx8xIzAhNvtJhQK8S/RaJSHhwdWV1epVCqk02nMSBhot9soikI+n6dQKPD29sYfR0dHrK2t4XQ6mbq9vaXX62HGCWjMcHNzg8/nw+/3oygKqqqiqiqqqjIajcjlcng8HlZWVjg9PaXRaGBGwkCn0yESiRAOh5lMJmxvb/Px8UGxWOT9/Z1ms0kgEGBjY4NKpYIVEibG4zH5fJ6pu7s7ZvF6vZTLZcwIfsnW1hZWCGwm+CWtVgsrBL+kVCphhWAOS0tL7O7uUq1WGY1GWCGYQyAQwOVyUavVGI/HWCGYw+bmJlOFQgGrBHN6eXkhl8thlQOYYKMfyRXH2uuKaqoAAAAASUVORK5CYII=\">\n",
       "<div style=\"text-align:center\">9</div>\n",
       "</div>\n",
       "<div>\n",
       "<img src=\"data:image/png;base64,iVBORw0KGgoAAAANSUhEUgAAABwAAAAcCAYAAAByDd+UAAADH0lEQVR4Ab3Bzyu7DwDA8fcej5OtoYRNLXPaFnJaUW6UyQGhxIGDUoociGw+bBcW2n/gsHadA5KIVmpPWkp+HObhYMlBGTnM1vZ8ew5qre3D55v2emkAhSISKDKBIhMoMpF/IAgCIyMj2Gw2VHa7HUmSSCaTbG1tkU6neXt7429EvqHT6aiurmZ6eppAIMD29jZfJEliYmKCp6cn2traaGpqwufz4fV6SSQS5KMBFPLQarVYrVacTifd3d18OT8/JxAIYDabub6+JhwOc3l5SXt7O36/n5ubG+7v75mdnSWRSJBLpACr1Uo4HOaLoigEg0GmpqZ4fn4mVygU4uDggP7+fjo7O9nY2ECWZXKJ/EA0GmV4eJhIJMLfxGIxnp+fqaiowGq1IssyuUqAP+Tx8vLCx8cHCwsLeL1e7u/v+Y4sy1gsFhKJBHq9nt3dXXIJFPD5+cn6+jqRSITX11d+IhaLsbq6islkohCBX1RaWkpLSws1NTUUIvKL5ubmcLvdqPb398lH4JdUVVUxOTnJl6urK/IR+CWNjY0YDAa+I/JDzc3NtLS0kG1nZ4d4PI6qr6+PL5ubmzw+PpKPyDdGR0dxOp3U1tZSVlZGNq/XSzqdxufzMTY2hurs7IyFhQVSqRT5iBRQV1fH6ekpZrMZ1fv7Oy6XC5UkSdzd3RGLxWhtbeX4+BhBEFAlk0lSqRSFiBRgMBgwm82oQqEQHR0dpFIpsmm1WhYXFxEEAY1Gg6IofEckj6amJtxuN6p4PM7KygqpVIpsXV1duFwu7HY7l5eXKIqCyWTCZrPR0NCALMvkI5JDp9Oxt7eH0WhENT4+zsnJCdkcDgd+v5/y8nKCwSADAwNkMhmWlpaYmZmhsrISWZbJRyRHaWkpRqORLw8PD6gsFgs2mw2Hw0Fvby96vZ6hoSEkSSKTyaDyeDxIksTr6yuFaACFLCUlJczPz+PxeFAdHh7y8PDA4OAgt7e3HB0dEY1GCYfDPD4+kkwm+RciOdLpNGtra1xcXFBfX8/y8jKyLHNxcUFPTw+ZTIbPz0/+Lw2gUEQCRSZQZAJF9h8vejz2J+IVSAAAAABJRU5ErkJggg==\">\n",
       "<div style=\"text-align:center\">2</div>\n",
       "</div>\n",
       "<div>\n",
       "<img src=\"data:image/png;base64,iVBORw0KGgoAAAANSUhEUgAAABwAAAAcCAYAAAByDd+UAAABiklEQVR4Ab3Bva7BYACA4fd8ajhC/GwSuyuQGDDYRBjcgAGJwVazdJY0EouFSCTEajCwWQ0Gxt6ATpYObRrpSQcrbZ30eX4AhxAJQiYImSBkgn/SbDY5HA4kk0neEfyDYrHIcrlE13Usy+IdiS/VajX6/T7pdJr7/Y5pmrwj+MLv7y+dTodGo4Ft21wuFz6RCCgej6OqKq1WC5eiKGy3Wz4RBFStVun1erxomoYXgoCm0ykv4/GY3W6HFxI+SZLEYDAgm83iWq/XKIqCbdt4IeFTLpdjMpngOA6GYTCfzzFNE68kfFJVFcdx0HWd4/HI6XTCD4EP9XqdcrmM63w+02638UvCh81mQyKRwLXf7wlCwqN8Pk8kEsE0TWRZZrFYEITAo263SywWQ9d1ZrMZz+eTIAQeZDIZCoUCrsPhwDcEHsiyTKVSwXW73fiGwIPVasXLcDjkG4KQRQCFDwzDwFUqlYhGo1yvVzRNIwgJDyzLYjQakUqleDwe7Pd7gvoBHEIkCJkgZIKQ/QEbx4O9Z8zdZgAAAABJRU5ErkJggg==\">\n",
       "<div style=\"text-align:center\">1</div>\n",
       "</div>\n",
       "<div>\n",
       "<img src=\"data:image/png;base64,iVBORw0KGgoAAAANSUhEUgAAABwAAAAcCAYAAAByDd+UAAACDUlEQVR4Ab3BMUsjQRiA4XfGIQTdFLL5AbsDWtgl9laCjYUQIRC0S2MftLUxIChYWfgX0kjAQjFtwCKLZUgRsLEQdAVJCAb8ji0OjuNMRvbY51GAkCFNxjQZ02RMkzFNxgw/4Ps+m5ubNBoN1tfXUUpxfn5Oo9HAlcHR8vIyt7e3lEolEiJColKpcHJyQhzHuDA42NjY4PT0lHK5jIhwd3fH0dERtVqNSqWCMQZXhjmstbTbbQqFAomrqysODw/5+PhARIjjmMlkgrWW4XDIPAvAMd/wfZ92u00QBHS7XYIg4Obmhs/PTxIvLy9sbW1xeXmJtZbr62vmMczQbDYplUqICG9vbxQKBSaTCWEYsra2xu7uLtVqFa014/EYF4YZyuUyv21vb/P4+Mh4PMZaSz6fRymFiJAIwxAXhhniOOZPYRgiIvzL2dkZLhaAY77R6XRYWVlBa02xWCSKIgaDARcXFzSbTer1OgcHB3iex8PDA/f398xjmOH5+ZmdnR2WlpbwPI/393em0ylfX18kVldX8TwPEaHT6eDC4GA0GjEajfhbEAQsLi7yE5qMGVLY29tDKcVPGFIQEUSEOI6JoggXmv8gl8vh+z4uNClYa0kYY/A8DxealJRS5PN5fN/HhSaFXq+HiCAiuNKk0O/3Sby+vvL09IQLTQqtVosoitjf32cwGOBCAUKGNBn7BWC1urwXcH9+AAAAAElFTkSuQmCC\">\n",
       "<div style=\"text-align:center\">9</div>\n",
       "</div>\n",
       "<div>\n",
       "<img src=\"data:image/png;base64,iVBORw0KGgoAAAANSUhEUgAAABwAAAAcCAYAAAByDd+UAAABfElEQVR4Ab3Bwa3iMBRA0Ytn9jTg1wfuIzEVsEcOBUwDjtJG7NSBqSNOH3x5MdIXApKAlHN2wJ0NKTam2JhiY4oPjOPIOI58QvEBEeFTf4B/rGCtRWvN6XRimiZ+u16v7Pd7Ukq8olhBROj7niKlxG8igjGGtm15R7FC3/cUXdfxyHvPEoqFvPcYY4gxEkLgUV3XpJSYo1jAGINzjpwzTdPwyDlHMQwDcxQL9H1PcblcyDnzqKoqirZtmaOYYYxBRMg5E0LgGWMMKSWWUMzw3lMcj0eecc5RdF3HEooZxhiKlBLPnM9nihAC/znneOUvXzDGICKklCiMMXjv0VrTti3P7IA7b4zjiIhQxBi53W5M00RRVRV1XfPoeDwSQuCZHXBnhvce5xyvpJSYpolhGAgh8M4OuLOQtZaiqioOhwMiQowRay1LKVYIIRBCwFqLiFA0TcMaii/lnFlD8YUYI2spvqC1RkRYQ/GhlBJaa9baAXc2pNiYYmOKjf0AdPOK+V8MLDUAAAAASUVORK5CYII=\">\n",
       "<div style=\"text-align:center\">4</div>\n",
       "</div>\n",
       "<div>\n",
       "<img src=\"data:image/png;base64,iVBORw0KGgoAAAANSUhEUgAAABwAAAAcCAYAAAByDd+UAAAC50lEQVR4Ab3BQSi7fQDA8e9vzxNPWVlSk0IjJzLMLspJnLjsoGZlJxRSysVhZklGy41Qu6kdtHagloOL1kpDMg6y1JbHSbLIZpfnbQf19vaf/zNv7fMRgEYFGagwAxVmoMJk/ofe3l5GR0dxOByk02lub29ZXV0ll8tRiswv2O12PB4PQ0NDVFVVUdTZ2cnIyAgWiwW3202hUOBPJGCFMvT393N8fEx3dzePj4/4fD729/e5urpieHiYjo4OLi8vub+/509kytDR0cHR0REmk4m1tTXW19f5/PykyG63o4eMToqiEAgEMJlMbG1t4fF4+NbS0sLBwQFFiUSCWCxGKTJlMJvNCCGIRCJ8m5qaYnd3l6JUKsXY2Bivr6+UIqNTPp8nnU5jtVpRFIW2tjbGx8dZXFxE0zQSiQQLCwuoqspPZH4hGAwihKCpqYlvX19fOJ1OMpkMqqpSikwZHh4eKGpubkYIQS6XIxaL0dXVxfn5OcvLy+TzeX4iU4bT01NmZ2dRFIUiRVGorq6mr68PVVXRw0AZMpkMkUgEIQRCCLLZLA6HA1VV0UsCVtBhbm6OUCiEzWbj5uaGTCZDa2srLpeLUCjEx8cHekjACn8xNTWF3+/HaDQSj8eZnp4mHA4zMTFBfX09iqIQjUbRQwJWKKG6uprt7W28Xi+SJLG0tMT8/DxPT0+8vLxwfX2Ny+XCZrNxcnKCqqr8jcwPLBYLk5OTFHm9XgKBAP92cXFBkSRJyLKMHgZ+EAwGEUKQSqXY2dnhv8xmM0IIcrkc7+/v6CFTwuDgIHa7HU3TmJmZIZvN8k1RFNxuNz6fD03T8Pv9JJNJ9JApwWg0IkkSRTU1NdTV1TEwMIDT6aS9vZ2enh40TePw8JDNzU30kinh7u6O5+dnGhsbiUQivL29UVtby7ezszPC4TB7e3sUCgX0EoBGCVarlWg0SkNDA5qmkU6n2djYIJlMEo/H+Q0BaFSQgQozUGEGKuwft5sOibElbycAAAAASUVORK5CYII=\">\n",
       "<div style=\"text-align:center\">8</div>\n",
       "</div>\n",
       "<div>\n",
       "<img src=\"data:image/png;base64,iVBORw0KGgoAAAANSUhEUgAAABwAAAAcCAYAAAByDd+UAAABuUlEQVR4Ab3BsWrqUACA4f+cG1ApcWrBCoHqIPgCDsatAR9ARwehi0/QuRS7iOCgk0sHcWvpEMHVxcVFUBBxKDg5il1CQHouGbKfpJDvE4AiQZKESRImSZgkYZKEGWh6eHigVCrRarUoFAp8f39TLBaZTqe8v7/j+z46DDTk83kWiwWWZSGEQClFtVolYNs2t7e3dLtddEg0nM9nJpMJAd/3GY1GPD8/E+p0Otzd3aHDQIPnefT7fSzLYjab8fHxQS6Xo9frEUin06TTaXQYaLpcLrTbbUL39/cIIQgIIdAlienx8RGlFIFUKkUmk0GHJKZyuUxos9lwOBzQIYnBcRwajQahz89PdBnEUK/XyWazhJbLJboMIjJNk0qlglKKwGAwYLVaoUsS0dPTE7VajdDb2xu/v7/okkTUaDQIjcdjzuczUUgism0bIQQ/Pz+8vr4SlSQCx3EIKKVwXZfT6URUEk03NzcMh0NC/X6fOCSaTNOkVCrxVwYRCCEQQvAXBpqazSZKKQKu67Lb7YhDomm73bLf7/E8D8uyuF6vxPEPeEHD8Xjk6+sLIQTz+Zz1ek0cAlAkSJKw/6V2hop10Fd7AAAAAElFTkSuQmCC\">\n",
       "<div style=\"text-align:center\">7</div>\n",
       "</div>\n",
       "<div>\n",
       "<img src=\"data:image/png;base64,iVBORw0KGgoAAAANSUhEUgAAABwAAAAcCAYAAAByDd+UAAACGElEQVR4Ab3Bv0syYQDA8a/PXYTQIOEiitIcOLrfpCXmEDgEjdLgPxA5dFAQ5KqzNUUuOqrhIKIgmUhCINGqi/hjEM9ADIfg3XruXrjPxwFssJHAZgKbCWwmsJmKhJubG9LpNFuDwYBOp8PWeDymVCpRr9eRpQA6f9jZ2cHv9zMajTAMg/39fUKhEJqmEY/HqdVqjEYjZKhIqFarVKtV/pVIJHh6esLlcnF+fs7b2xsyBBZ9f3/za7VaIUtgwcHBAdlslq3hcMjd3R2yBCbt7e3RaDTwer3M53MuLy+ZzWbIUjHB5/Nxf3+Px+NhOp0Si8VoNpuYoSLp6OiIXC5HIBDg/f2dVCpFq9XCLIEkTdMIBAJsDQYDWq0WViiAjoTX11d8Ph/BYJDDw0P8fj+VSoX1eo0ZCqAjwTAMisUi8/kcj8fD8fExFxcXfHx88Pn5iSwF0DGh3W7z8PCAoihomkY0GqXX6/H19YUMBdAxab1eU6vVWCwWnJyccHp6SqFQYDKZ8BfBf+h0Omw5nU5SqRQyBBZ5vV6urq741e/3kSGwKBKJEA6HcTgcLBYLyuUyMlQsiEQiZLNZNpsNhmGQTCYZDofIUJGUSCTodrsEg0EeHx/Z3d1luVxye3vL8/MzslQknJ2dkc/nmc1muN1utvr9PrquUywWMUNFwsvLC8vlErfbzWq1IpPJcH19jRUOYIONBDYT2OwHoofKYWpoJY8AAAAASUVORK5CYII=\">\n",
       "<div style=\"text-align:center\">3</div>\n",
       "</div>\n",
       "<div>\n",
       "<img src=\"data:image/png;base64,iVBORw0KGgoAAAANSUhEUgAAABwAAAAcCAYAAAByDd+UAAACIElEQVR4Ab3BMUgyYQCA4fe+vkLEhhykuEEhQahBqHCJpFZxyiVoayxplRZxdLC1IQS3wEUMBYcWl25o0EFBQoVc3HIQEUPsfm4Q5B+8C+WeRwF0bCSwmcBmApsJbCawmcBmkj+Ix+MEg0Fubm5QFAVDo9EgnU5TKBT4+fnBzAaQwsTOzg6FQoHb21uOjo7QdZ3pdIoQAo/Hw+XlJcPhEE3TMCOx4PX1ldPTU8bjMclkklarRbfb5eTkhKurK6LRKIlEglwux/f3N8tsACmW8Pv9JJNJtra2SKVSZDIZOp0Og8GAZrPJ29sbx8fHHBwcsLu7S7FYZBmJibu7O1wuF5qm8fj4yCK32029XkdVVQzb29uYEZjwer0YMpkM0+mURaFQCFVVmavVapgRLOFwOPD5fBjG4zGLpJRks1nmJpMJlUoFM5IlJpMJX19fBINBFjkcDp6fn9nb28Pw8fHBw8MDtVoNMwIT7XYbQzwe5/DwEEM2m+X6+pq5UqlEtVrFComJp6cnYrEY0WiUSCTC7+8vUkoMg8EAt9vN2dkZVglM9Ho9wuEw7+/vzGYzdF2nWq1yf39PuVzmryQW9Pt9wuEw/8vlcvyVYA02NzcRQmCFYA0uLi5QVRUrBCvI5/PMKYqCFYIVjEYj5gKBAFYIVqAoCnOfn59YIViT/f19rBCsQNM02u02hvPzc6yQrGA2m9FqtXA6nby8vGCFAujY6B+xrrSQJ90SJwAAAABJRU5ErkJggg==\">\n",
       "<div style=\"text-align:center\">9</div>\n",
       "</div>\n",
       "<div>\n",
       "<img src=\"data:image/png;base64,iVBORw0KGgoAAAANSUhEUgAAABwAAAAcCAYAAAByDd+UAAABxElEQVR4Ab3BsUrrUBzA4d85rUNAFOoWiE6mrm1wDdS5U5dMzqWjb1AUO/QBWgpm6JYH0A5uQkfNIJ06OEkLhYIYiiDF/6WDcIfr7UnuJd+nACFHmpxpcqbJmSZnmpwVgDZbPD4+0u/3KZfLWJbF29sb+/v77Ozs8PHxQRpFDFQqFUSEIAgIggClFCLC6+sr9XqdyWSCqQLQZgutNb7v800pxcbe3h6O4xBFEaYKQJstxuMxG7u7u9ze3uJ5Ht9c1+Xy8hJTChAysG2bTqfD+fk5Z2dnPDw8YEKT0Ww24+7uDhGhWq1iSpMzzX8QxzGmivwD3/dRSvHy8oLjOGzM53PW6zU/UYBg6ODgANd1ubi4QESo1WqUSiWUUogIG2EY0mw2+UkRQ41Gg+vra46Pj1FKISL8brlcMhgMCMOQvyliwLZthsMhlmXxJ1dXV/R6PRaLBdsUgDZbJEnC4eEh7+/v9Ho9LMvi6OiI5+dnTk5OuL+/Z7VaYaKIoVarxbfT01NEhOl0SpIkpKHJIAgCNqIoIi1NRnEcMxqNSEuTkud5aK3pdrt8fn6Slialp6cnvr6+yEqTM00GNzc3ZKUAIUeanP0CYmyTJAuE4NEAAAAASUVORK5CYII=\">\n",
       "<div style=\"text-align:center\">7</div>\n",
       "</div>\n",
       "<div>\n",
       "<img src=\"data:image/png;base64,iVBORw0KGgoAAAANSUhEUgAAABwAAAAcCAYAAAByDd+UAAACFklEQVR4Ab3BMUgyYQCA4fe+OyvIXZDEoBqypSEa3BxcAgMhtwikJQTJQSloCXEN5MRNHDO0GoIgaashEJocErcmQ0czUjTjBiH+4ff7HO55NGCMjQQ2E9hMYDMdOGdGR0dH1Go16vU6b29vyDCYUSwWwzRNxuMx3W4XWQYz8Pv9ZLNZ+v0+BwcHPD4+IkugyOfzUSqVsJyennJzc4MKgYLl5WUeHh5wu90kk0lyuRyqBJIMw+Di4gK32002m8U0TSZ0XUfTNGQIJCUSCcLhMOVymVQqxYQQglKpxOHhITIEErxeL/F4nHq9Tjqd5q+lpSX29vY4Pj5mYWGBaQQSTk5O8Hg8FItFGo0GEw6Hg0wmg+Xj44Pv72+mEUyxurpKNBrl/v4e0zT5y+PxsL+/j+Xu7g4ZgilCoRDz8/Nomsa/IpEIE5VKBRmCKarVKsPhkJ2dHa6vr9na2sKytrbG2dkZlkKhQLvdRoYOnPMfnU6Hn58fAoEA6+vrRCIRAoEAmUwGp9PJaDRid3eXbreLDB04Z4rn52eazSbb29u4XC5WVlaYm5vD8vT0RD6fR5aBpKurK25vb9F1nY2NDWq1Gr1ej2g0igoDBYPBAIvT6cTSarV4f39HhWAGyWQSS7VaRZVA0ebmJsFgkFkJFC0uLuJwOPj8/OTy8hJVAkWdToevry9eX195eXlBlQaMsZHAZgKbCWz2CxkkrFbGmsheAAAAAElFTkSuQmCC\">\n",
       "<div style=\"text-align:center\">4</div>\n",
       "</div>\n",
       "<div>\n",
       "<img src=\"data:image/png;base64,iVBORw0KGgoAAAANSUhEUgAAABwAAAAcCAYAAAByDd+UAAABlUlEQVR4Ab3BravqYADA4d95r2A7C0P8WBNsRk1iEww2uyAq2IzGcbsGkyBGg4hfMPwTRDAI6wZhCIKgsCCsvReDcDkc2DsGe54vQBIhQcQEERNETBAxQQD9fp/tdksYggDq9TpSSsIQKNJ1nUwmQ1gCRY1GA8MwcF2X3+RyOTqdDn4EivL5PG/b7ZbftNttJpMJfgSKkskkj8cDy7L4qVqt0uv12O/3+BEoqtVqrFYrfkqn0wyHQ+LxOJvNBj8xFFQqFd5c1+V/uq5zPB4xDIPr9cpsNsNPDAX7/Z43TdP4qFQqLJdLvr+/eZtOpzyfT/zEUOB5Hrvdjlarxf1+x3VdTNNE0zSklLyt12tUxFA0GAwoFAqYpsnH4XAgm81yu924XC6o+AP8RYHjOJzPZ6SUpFIpbNum2+3SbDY5nU4sFgtUxAjAsiwsy+KjVCqRSCSYz+eoEoRQLBYJShBCvV7H8zwcx0GVIIRyuczr9cK2bVQJQpBSIqUkCEHEBCGMx2OCEoQwGo1wXZcgvgBJhAQRE0TsHx2Li+uuzpYFAAAAAElFTkSuQmCC\">\n",
       "<div style=\"text-align:center\">4</div>\n",
       "</div>\n",
       "<div>\n",
       "<img src=\"data:image/png;base64,iVBORw0KGgoAAAANSUhEUgAAABwAAAAcCAYAAAByDd+UAAACNElEQVR4Ab3BsUsyYQDA4Z/vXaeYQdxFDkdTQ9ZUBo6BWBBEFAhuNTW1BUZT9NHQ2hL+CS0RbQZOGlyLaUiDS9DgEIHWUKFL+fEOQXy852X13fMEgC4+EvhM4DOBzwQ+E/wH+Xyezc1NVAQubNvmO2KxGIuLi2xtbaEicFGv14lEIvTr8PAQ6eHhARWBwtLSEpFIhEQiQT8mJyeZn58nEAhwcnKCikAhkUggzc3N0Y9MJoOmaby9vVEul1ERKCSTSaRGo8FXDQ0NsbGxgZTL5bi8vERFoGBZFlI2myUcDvMVy8vL2LaNdH5+jhuBQrvdRpqYmGBqagovhmGwvb2N1Gg0KBaLuNGAP/zDNE1SqRTS2toa09PTzMzMUKlUME0T27bRdZ2RkRGGh4eJx+Nks1mkvb09HMfBjY7C0dERCwsLJJNJQqEQ6XQaKRaLMTs7SzQa5fn5mWAwSD6fJ5PJ8KFer9OLQOHl5YX9/X263S6fra6uMjY2hmEYWJbF09MTj4+PdDodvkrgolQqsbu7y/v7O25M0+Tm5oZcLofU6XS4u7ujF50eDg4OuLq6IpVKsbKywvj4OJqmcX9/z8DAAGdnZziOw/r6OtL19TW3t7f0ouOhUChQKBTY2dkhHo9jGAa1Wo1wOEyr1eKzWq2GF50+VKtVPrTbbb5D4DPBL7q4uMCL4IcGBwexLAup2WziRfBDr6+vtFotpNHRUbzo/ALHcTg9PeX4+BgvAaCLjwQ+E/jsLwQEqh7wtOI1AAAAAElFTkSuQmCC\">\n",
       "<div style=\"text-align:center\">4</div>\n",
       "</div>\n",
       "<div>\n",
       "<img src=\"data:image/png;base64,iVBORw0KGgoAAAANSUhEUgAAABwAAAAcCAYAAAByDd+UAAACPElEQVR4Ab3Bv0sycQDA4c99tQwkdagEawwiaJDI6c6luaUhwdmh4CBcHEKoliBwvyL8D0SCIIQIlERqSHCyAm0oUNDxCILjuBeHIBq8Hy/c80iAhY8EPhP4TOAzgc8EPgvi0fr6Ovl8nr29PcbjMaqqcn9/j50AcIpLV1dXlMtlIpEI7XabaDSKqqpcX18zHo+ZJogLsViMm5sbZFkmn89zeXmJYRjMz8/z/PxMMpmk2+0yjcCFSqWCoijs7u6iaRqGYTCh6zqj0QhFUbAjcOjk5ITt7W0ODw+5vb3FNE1+hEIhotEoo9EIOwIHMpkMhUKBUqnExcUFpmnyWzqdZmNjg/f3d+wIHCiVSry+vnJ2doZpmvwWDofRNI2Jz89P7Ahs7OzssLy8TKFQQNd1/pqdnSUcDtPr9Xh8fMSOwMbR0RFCCN7e3vgrFApRrVZZXFwkl8vx/f2NnSA2EokEE5FIhMFgwI/NzU3K5TLJZJK7uzuazSZOBIBTpnh5eSGbzZLJZFhYWECWZc7PzykWi6ysrDChqir9fh8nAsApU/T7fZrNJjMzM8iyjGVZdDodnp6eSKfT9Ho9isUihmHgRBAHGo0GjUaD346Pj7Esi3a7zdfXF04J/oMkSXx8fOCGwKPV1VUsy6Jer+OGwINAIEAqlWI4HNJqtXBD4MHBwQFra2vUajV0XccNgQfxeBxJkqjX62xtbeGGwANFUZjQNI25uTncCOLBw8MDS0tL7O/v02q1cEMCLHwk8Nk/+GbL1UfMHRAAAAAASUVORK5CYII=\">\n",
       "<div style=\"text-align:center\">9</div>\n",
       "</div>\n",
       "<div>\n",
       "<img src=\"data:image/png;base64,iVBORw0KGgoAAAANSUhEUgAAABwAAAAcCAYAAAByDd+UAAACn0lEQVR4Ab3Bzyu7cQDA8ffz2QcptVbLMwcJOQjl4HHACrWTC6mlXUQRB3+A29dpu0splF3WlvLrsKTmQsmPFOXguBHpOQilPFueb89h9U17nmf0ba+XAphUkKDCBBUmqDBBhUl+qa6ujtXVVSKRCKenpwwNDWEYBm48wB/KdHt7S2trKwsLCywvL/P8/Ex1dTWdnZ0MDw+jqionJyc4UQATF6qqsre3R29vL4qiYDFNk5eXF0zTRAhBTU0NUkqSySSTk5PYkbgYHBwkkUgQCASwmKbJ9fU1sViM4+NjTNNECEF9fT1HR0domoYTiYO2tjbi8TiBQACLYRjEYjGi0Sifn5/8q729Ha/Xy8XFBVVVVeTzeUqR2BBCsL6+TmNjI0WRSITt7W1K8Xg8WDRNo6GhgVwuRykSG93d3QSDQSyGYTAxMcH+/j52wuEwlqenJ3K5HHYkZdja2mJ3dxc7qqrS39+PJZVK4cQD/KEEXdc5Ozvj9fWV+fl5vr6+sLO4uMjo6CjZbJbZ2Vk+Pj6wI7FRKBRIp9Ok02mcKIqCpmlYDg8P0XUdJ5Jf8Pl8eL1e+vr6aGlpIRQKYbm8vMSN5Id8Ph8bGxsMDAzg9/spenh4IJlM4kbyAysrK8zMzCCl5Lu7uzve399xIyhTOBxmbm4OKSWldHV10dHRgRtBGWpra0kkEiiKQjab5V9XV1dMTU3h9/tZW1vDjaBMQggsTU1NFN3f3zM+Pk48HscwDJqbm/H7/TgR/FIqlaKnp4dsNkuRqqoEg0GcCMpQKBS4ubnBYhgG0WiU6elpdF2n6ODgAMvIyAhOJGXI5/OEQiGWlpbY3Nzk/Pyc7x4fH8nn82QyGZwogMl/MjY2xtvbG5lMBjuS/2hnZwc3ggoTVNhfyR7osG57E+cAAAAASUVORK5CYII=\">\n",
       "<div style=\"text-align:center\">2</div>\n",
       "</div>\n",
       "<div>\n",
       "<img src=\"data:image/png;base64,iVBORw0KGgoAAAANSUhEUgAAABwAAAAcCAYAAAByDd+UAAAC1klEQVR4Ab3BTyi7fwDA8ffz7OnZyqIotfwb0rjg5uDiwsFhlLKDXJWLuGAluezkMIVywG7KQUoOWLILK0u7rOFJcyN61rTSzDw+v57D6nv4PpvvT+31kgBBBclUmEyFyVSYTIUp/KOBgQFMFxcXnJycMDQ0RDAYJJ1OYzo4OEDTNKwolDAxMYHf76exsZEiVVUxfX9/Mzg4iBCC2dlZipLJJJqmYUXGQiAQYGdnh87OTjRNw+l04nQ6UVUVVVWxsrCwQCkKFiYnJ1EUBdPt7S0dHR2cn59jOjs7w+FwcHp6StHy8jI+n4/e3l68Xi9HR0f8jcIPRKNRVldXSSQSWJmenmZtbQ3T4+MjVmQs7O7uUqRpGolEglKy2SyxWIxYLIau61hRsJBKpShqbm6mq6sL0+vrK6Z0Os3/oWDh8vKS+/t7PB4P29vbFMXjcUzJZJJoNMr+/j6ZTIafsgEr/EUmk+H5+Znx8XH+5HK5cLlc9PT0MDw8zMjICEIIkskkhUKBcmR+yePxsL6+zuHhIT9hA1awcHd3x97eHtXV1TQ1NREKhXh7e0PXdVKpFG63G0mSkCSJtrY2bDYbkUiEUiRAUIbNZsPhcJDL5VAUBUmSEEIQCASYmpqiqqoKk2EYjI2NcXx8jBUbsEIZQggKhQJCCAzDwDAMDMMgHA4TCoUYHR2ltrYWWZZ5eHggEolgReaXXl5e+Pr6omh+fh6v14sVmV+amZmhpaWFoqenJ66urrCiUEZNTQ1CCLLZLCa32019fT2BQAAhBP39/djtdoo+Pj7QdR0rCmUEg0Ha29vRdR1Td3c3ra2tSJKEEII/5XI5tra2KEWhjHg8js/nw263U0o+n8fv97OxsUEpNmCFEq6vr+nr66OhoQFVVSmSJInPz0/e39/J5/P4/X42NzcpRwIEP1BXV8fc3ByLi4uYlpaWuLm5IRwO8y8kQFBBMhUmU2H/AflIGnq0I2xOAAAAAElFTkSuQmCC\">\n",
       "<div style=\"text-align:center\">5</div>\n",
       "</div>\n",
       "<div>\n",
       "<img src=\"data:image/png;base64,iVBORw0KGgoAAAANSUhEUgAAABwAAAAcCAYAAAByDd+UAAACVElEQVR4Ab3BP0sycQDA8e/9ngMl+2MSCCIYDUIERRQohFsuLbqdFjS4FHFFLeL4gNQQd2MhQr6C3kGGt0RB0AuIQHBRRGhK8Oj0weFZJO3O4T4fCRjgIoHLBC4TuExmSoqicHl5yWAwYGdnh3a7jR2CKSiKQrFYJBQK8fHxgWma2CXjUCwWo1gs4vV62dvbwzAMnJBxIBKJYBgGkiRxcnKCYRg4JXAgn8/j8XjQdZ1KpcI4i4uLFAoF1tbWGCWwKRqNks1m6ff7VKtVJolEIlxdXTEzM8MoGZtOT0/x+/2kUilqtRrjZDIZKpUKjUaDZrPJKIEN29vbKIpCt9vl8fGRcQKBAIVCAa/Xy+fnJ9/f34wS2HB9fc3S0hKaptHtdhmnWq2yvr5Or9dDVVVarRajZH4xNzfHwsICnU6H29tbfhIMBtnf32djYwPTNLm4uODp6YmfCH6xurrK5uYmDw8PtNttfqKqKrquI0kSuq5TKpUYR8amlZUVfD4fX19fDPn9ftLpNAcHByQSCYbu7u7QNI1JZGyKxWLU63V0XSeRSBCPxwkEAvz39vbG8fExlmUxyR/gLxM0m02G4vE48/Pz7O7usry8zOzsLJIkYVkWR0dHqKqKZVn8RgIG2BCNRkkmk/T7fba2tsjlcpimydnZGeVyGbsENr2/v3Nzc4MQglwuR6/X4/z8nHK5jBMCB8LhMJqmMVSr1SiVSjglcCCfz+PxeHh+fubw8JBpCBxIp9MM3d/f0+l0mIaMAy8vL4RCIV5fX5mWBAxwkcBlApcJXPYPOXbGbZN7A/oAAAAASUVORK5CYII=\">\n",
       "<div style=\"text-align:center\">4</div>\n",
       "</div>\n",
       "<div>\n",
       "<img src=\"data:image/png;base64,iVBORw0KGgoAAAANSUhEUgAAABwAAAAcCAYAAAByDd+UAAABhElEQVR4Ab3Bv+s5cRzA8ee97ptPGRTlFovdcEWiDBZSSkZWi42/wf/gP/APkInBr81CWZWUlB+ZRLnh7r5/gXpfp3s8NMAlQELAhIAJARMCJgRMB3p8sdvtaLfbXK9X7vc7n88Hv3SgxxeNRoN8Pk+z2aTb7ZJMJslkMpzPZ16vF7Zt45UO9PhiPp9jmiahUIhYLEY6naZYLNLpdMjlcmw2Gx6PB17oQI8vns8ng8GA4XDIbDYjFovhOA6n04lCoUC9XicSibBarVClAS4eGIaBZVkkk0n6/T7ZbBbTNNnv96jQgR4evN9vLMvidrsRjUapVquEw2HG4zEqhB8ol8vouo4KwYflconjOCQSCWq1Gir+4cN2u8VxHC6XC6PRCBXCD/z9/RGPx1Eh/IBhGJRKJVQIPqRSKUSE9/vN8XhEheBDpVJBRJhOp6zXa1QIP7BYLFAl+KRpGl4IPsTjcVzXxQvBh1arhVeCT7ZtczgcUCX49Pl8mEwmqBICpgEuARIC9h+4NYHL5tPAlAAAAABJRU5ErkJggg==\">\n",
       "<div style=\"text-align:center\">7</div>\n",
       "</div>\n",
       "<div>\n",
       "<img src=\"data:image/png;base64,iVBORw0KGgoAAAANSUhEUgAAABwAAAAcCAYAAAByDd+UAAACoElEQVR4Ab3BvUsyDwDA8e+dL3CDhdFiLbckvUzWcIo2BCa9LA05ZjQEDi01nFMgQtP9Ay4SRERDgXtDyAUhBCcSGC29LFEi2pZm3Y8bgoeHxzz9gZ+PAJgMkMiAifxPd3d3fH9/MzY2hh1O+uTz+chkMkxMTKCqKi8vL9jhpA9ut5vLy0v8fj+WXC6HaZrY4aQPmUwGv99Po9FgbW2N9/d37HLSo1gsxvr6Oo1Gg+XlZYrFIr0Q6YHP5yObzSLLMtvb2xSLRXol0oPDw0NkWUbTNM7Pz+mHiE2xWIxQKMTHxwdHR0f0S8QGr9dLLpfD4/GQSqWoVCr8yeFwIEkSLpeLbpzYoKoq4+PjGIbByckJf9I0DUVRiEQiVCoVkskkuq7TiRMb4vE4lmQySa1W44eu64TDYSyCIDA1NcXW1ha6rtOJiA2maWIxTZMfmqYRDoex1Ot1QqEQp6enbG5uMjc3RydOupBlmdHRUR4eHiiVSlgcDgeKomApFArs7e1hGAarq6sIgoAgCHQi0sXk5CTDw8NUq1Xa7TYWt9tNJBJBEAR2d3cxDANLIBDg8fGRcrlMJyJdRKNRLGdnZ/zt4uKCcrmMZX5+nsXFRfL5PK1Wi05EbHp+fuZviqLg9XqRJIn9/X3q9TrZbJbfiHRxe3tLu91GVVXcbjeWZrNJoVDA4/GQSCQ4ODggGo1yfHzM/f09v3EAaX5RKpVIJBLMzMzw9fXFzc0NrVaLt7c34vE4KysrBINBLPl8HpfLRbVa5fPzk39xAGm6mJ6eZnZ2loWFBTY2NlhaWiIYDDI0NIQkSTSbTdrtNoFAgKenJ15fX6nVavyLAJjYsLOzQzqdZmRkhB/X19ekUimurq6wSwBMBkhkwEQGTGTARAZMZMD+AwOx6olkVO05AAAAAElFTkSuQmCC\">\n",
       "<div style=\"text-align:center\">6</div>\n",
       "</div>\n",
       "<div>\n",
       "<img src=\"data:image/png;base64,iVBORw0KGgoAAAANSUhEUgAAABwAAAAcCAYAAAByDd+UAAACUklEQVR4Ab3BP0gyYQDA4d+9HgRRw/kHmtyiIpBoaAgbGqJBaDAibAi3WqMIqsEgAq2xwCFoFWzQUSFoEaEtqCVIh4i2jjrrwsouDj5BRL587+O751EACxcJXCZwmcBlApcJXCZwmaBFOp0mHo/zPwlarK6ukkqlCIVCODU6OkoymUTTNDpRafHy8oLf72dxcZG7uztM06RbXq+XWCxGIpHA5/MxMDBAPB6nnQfY5Y/r62tisRjhcJihoSEqlQqKolCr1egkGAwyMzPD+vo6+/v7LC0t0dvbi62/v5+joyPaqbQoFosUCgVmZ2eZn58nEonw+fnJx8cHj4+P9PT0cHZ2hk3TNJaXl+nr66OTfD5PJwpg0WZvb4+VlRV8Ph+/yeVyTE1N4ff7sTUaDba2tjg5OcEwDNp5gF3aXFxcUCqVeHt7Y3h4GMMwuL+/JxAI0Gg0sCyL09NTDg8PmZiYYHBwEFVV+fr6Ynp6mmw2S71epxMFsOjC5OQkwWAQXdexnZ+fs7a2xsHBAU3b29ukUin+RqVL5XKZcrlMk6IozM3N0fT09EQ6neY3AodGRkYIh8PYnp+fiUajGIbBbwQO7ezsYHt9fSWRSFAqleiGwAFN01hYWMCWTCY5Pj6mWwIHNjc38Xg82L6/v5EhkDQ+Ps7GxgZNtVoNGQJJlUqFarVK09XVFTIEkkzTxDRNbPV6nZubG2QIJI2NjREKhbDlcjkMw0CG4B9kMhlkCSRVq1UuLy95f3/n4eEBWQpgIcnr9RIIBLi9vUWWigO6rqPrOk78ADoR02xgcq9iAAAAAElFTkSuQmCC\">\n",
       "<div style=\"text-align:center\">7</div>\n",
       "</div>\n",
       "<div>\n",
       "<img src=\"data:image/png;base64,iVBORw0KGgoAAAANSUhEUgAAABwAAAAcCAYAAAByDd+UAAACDUlEQVR4Ab3BsUsyYRzA8e/z05IGkYOGmiIIgkMHbRByCRFcXMq1obWh5f4CR5EWBwdRIrggiBx1crDFTVBaInJ2CaSWRIwnbpN46Z5e4z4fBWgCJARMCJgQMCFgIaDEf3Ach0qlwvr6OoPBAFNhfimXy+G6Lpubm4gI4/GYer2OKeEX9vb2uL+/R2vNx8cHHtu22djYwFQIKGHAsiz6/T6j0YhkMkmr1SISiVAoFFgsFjw8PGBCMNRut4nFYpydneF5fn7m5eUFpRSHh4eYEgyk02kSiQTVapXJZMIyrTVaa0wJBjqdDq+vr9TrdVYl+MjlcliWheM4TCYTViX4KBaLePr9Psui0Sj5fB6lFEopTAk+dnd3+S4ajVKpVMhms2it0VpjKoyP2WzGsoODA8rlMtlslul0imVZ/EYIKPGDtbU1jo+PERF2dna4uroiHo/T7XY5OTnh4uKC2WzG9fU1i8UCP2F8uK5LuVzGcRw8g8GATqfD+fk5sVgMpRTxeJz9/X2GwyF+whiwbZvT01M8jUaD+XyOZz6f0+v1ODo6IpVKMRwO8RPGwNvbG7Vaje8+Pz95f3/Ho5TChLCiVquFp1gsYkJYkeu6KKXY3t7GhPAH7u7usG2bTCaDH+EP3N7eIiI0m022trb4SQgosaKnpyceHx9Jp9NcXl5yc3PDdDrlXxSgCZAQMCFgX0mqrpvMJUKkAAAAAElFTkSuQmCC\">\n",
       "<div style=\"text-align:center\">9</div>\n",
       "</div>\n",
       "<div>\n",
       "<img src=\"data:image/png;base64,iVBORw0KGgoAAAANSUhEUgAAABwAAAAcCAYAAAByDd+UAAACyklEQVR4Ab3BTyi7fwDA8fc+tDlYIgw5zWIl5UCGgyhNiDU5kFKOawc7WXJYKaEUKSe3HXBVD0LawcHfMS4rWrElq+WyYiaeX89hpacN+/5qr5cGkMkhQY4JckyQY4IsORwOysvL+VcaQOYXWq2WsbEx2tvbGR8fJx6P8/j4yNzcHFtbW2Qjn19YrVZWVlaora0lpaioiIaGBrxeL1qtFq/Xy1/l8wO9Xo/b7aampobT01OOj4/Z3t5GMTk5id1up7GxEZ/PRzgc5i/yycBqteJ2u+no6CAej9Pa2sp3t7e3CCFwuVz09vbS3d1NJBLhN3mAB5WCggI2NzdpaWkhEongdru5vr7mu0QigSRJWCwWmpqa6Onp4fPzk8vLS36SB3hQ2dvbIxwOU19fz8TEBBsbG6STTCaJxWKMjo5SVlaGyWTi/f0dv99PJnmAB5WlpSWam5t5fn5mdXWVaDRKJvf395yfnzM8PIzBYKC/vx+dTsfR0RHpCFQcDgfFxcU8PT1hs9kIBAL8RJZldnZ2ODk5QaHRaLDZbGQiUCksLEQIgd/v5+zsjL8aGhrC5/OhMBqNDAwMkI5Apa+vD8X6+jrZiMVirK2todDpdExNTZGOQEWSJBR3d3dk6+3tjY+PDxR1dXXo9XrUBBkMDg6SLUmSuLi4QFFSUoLT6URNkEFbWxv/Ynp6mpSuri7UBCrLy8u8vLzwfyUSCRYXF1ETqCSTSWRZprKyktLSUrJRXV3NwsICimQyycPDA2r5pDEzM4PT6WRkZISbmxu+C4VCGI1GQqEQRqORlNnZWSoqKjCZTCi+vr6Ix+OoaQCZNAwGA3a7nfn5efR6PSnBYBCz2UwwGMRsNqP2+vqKx+MhEAhwcHCAmgaQ+UFnZyculwuLxYLi6uoKg8FAVVUVKYeHh+zv76OIRqPs7u6SiQaQySFBjglyTJBjghz7D9gE+/c5ywyrAAAAAElFTkSuQmCC\">\n",
       "<div style=\"text-align:center\">0</div>\n",
       "</div>\n",
       "<div>\n",
       "<img src=\"data:image/png;base64,iVBORw0KGgoAAAANSUhEUgAAABwAAAAcCAYAAAByDd+UAAACcklEQVR4Ab3Bzyu7cQDA8feePWupOfn1jIsdPAdlO1DLlpOGgxJxUTQhcpwzPf+GA3FxWC0nysEW5bYUKysXKQ8pv2fU5ynTDivp69nz2Lfn9XIBJRwk4TAJh0k4TMJhMv9JLBZjaGiIRCJBqVSi7OLigmg0ysPDAxUyNfD7/YRCIcbGxpicnKSuro7Pz08qCoUChmHwnYxNbW1tqKrK0tISkUgERVH47urqivX1dfL5PDc3N7y+vvKdjAWNjY309PSwuLhIV1cX7e3t/JTJZEin02xtbaHrOr+RMREOh0kkEnR3dxMIBPjp6OiIw8NDdnZ2OD8/xzAMqpExMTs7y/j4OD/t7++zsLDA/f09Hx8f2CFjYnV1lb6+PlRVpWxmZoZUKoUQAsMw+AsZEz6fD1VVqchkMhSLRWohYUIIQaFQoKKjo4Pm5mZq4QY0fvHy8oKiKITDYcqmp6cZGRlBlmWEENze3mKXG9AwcXx8TD6fp7+/H6/XS0NDA4ODg0xNTaHrOqenp9jhBjRMCCE4OzsjmUySzWYJBAIoioLH42FgYIDW1lb29vawyg1oWPD8/Ewul2N7e5uNjQ1isRh+v59gMMjl5SW5XA4r3ICGDUIInp6eSKVSDA8P09LSwujoKGtraxSLRaqR+KO7uztOTk4oc7lcWCVRg+vra+ySqGJlZYV4PI7P56PC6/UyMTFBPB7HLpkqgsEgmqaxvLzM+/s7ZR6Ph1AoRMXu7i6Pj49YIVPFwcEBvb29dHZ28i/pdJq5uTkMw8AKF1Ciivr6eubn52lqaiISiSCEIJvNous6m5ubvL29YZULKOEgCYdJOOwLnzzg1eV2yd4AAAAASUVORK5CYII=\">\n",
       "<div style=\"text-align:center\">5</div>\n",
       "</div>\n",
       "<div>\n",
       "<img src=\"data:image/png;base64,iVBORw0KGgoAAAANSUhEUgAAABwAAAAcCAYAAAByDd+UAAAC+UlEQVR4Ab3BTyi7fwDA8ffneZ7Vt6UczFZrDsthLv6MFJsSUTvMwYGTelJIOEjESVMuSkouzi4SS2QXLlxEM6WWIn+KaYcpmu1JVnt+PYeVvpnt26/2eglAp4QkSkyixCRKTKLEJEpMoQh2ux1VVcnp7u6mo6ODbDbL3xKJBF1dXUSjUX6i8IvFxUUmJiaQJAmz2cx32WwWXdf5m8Viwe12E41G+YlCHn19fUxPT6MoCj/Z2NhA13Wqq6vxer3k3N3dEQwGyUchj0QiwefnJ2VlZRgODg6YnZ0l5+bmBkN5eTkDAwOsrq5ieHh4wGKx8PT0xE8U8jg+Publ5QWXy4WhoqKCZDJJPB7nO1VVGRsbw7C/v8/4+DiZTIZ8ZCBAHpeXl3i9XiwWC1VVVXg8Hq6urojH49jtdjY3NxkaGsJqtZJMJhkZGeH29hZN08hHBgLkEYvFkGUZn8+HweFwMDg4iNvtZnJyktbWVhRF4ePjg9HRUY6OjihEBgL84vn5GY/Hg8PhwCBJEjU1NVitVgyaprG1tcXS0hLFkIEAv0ilUoRCITRNw+PxIMsyBiEEhp2dHYaHh9F1nWLIQIAC0uk0JycnPD4+0tvbi0EIgaG2tpa3tzfOz88phkSRLBYLU1NTCCEQQiBJEkIIhBC0t7dTLIki9fT00NDQgK7rnJ6esra2xtfXF7qu43Q6sdlsFEMGAhTgdrvZ3t5GURRSqRRNTU3s7e1xfX2N3+/H4XBwf39PJBKhEIkizMzM8OfPHwwrKyukUikMu7u7vL+/Y1heXqalpYVCJApobm7G5/OR8/r6ynfr6+sYzGYzZrOZQiT+p1gsxr+QKCAcDnNxcUFOZWUlOS6XC1VVMaTTaTRNoxCFIgSDQTo7OzHMzc3hdDoRQtDf34/JZMJweHjI2dkZhchAgAJisRhtbW3YbDZMJhN1dXXU19cjSRKZTIZwOIyqqqTTaQoRgE6R/H4/jY2NzM/PI4RgYWGBSCRCKBSiWALQKSGJEvsPFkoGxRQ0jBoAAAAASUVORK5CYII=\">\n",
       "<div style=\"text-align:center\">8</div>\n",
       "</div>\n",
       "<div>\n",
       "<img src=\"data:image/png;base64,iVBORw0KGgoAAAANSUhEUgAAABwAAAAcCAYAAAByDd+UAAACoUlEQVR4Ab3BTyh7AQDA8e97e7WERxsuelm0lLIiK7XTO+CgdnB5cnBQ5LRaVhSH56Rw200pt10cOFiZAzZc3tYuistTYuUg1krzDrxf77By+e0Ptc9HAGyaSKTJRJpMpMlEmkziFyRJIhKJEA6HmZmZ4e3tDUdrays+nw+Px4OmaTj29/fJ5/NUSDRIURQmJyfZ3t7GsbS0hGmajI2NMTExQSAQQBAEbNsml8uxubnJTwJgU6e+vj6SySSDg4NUWJaF2+2m4vPzk2QyyfHxMUdHR3x8fPCTRJ16e3s5Ozujv7+fCsMwKJfL2LaNYRhks1lM0ySfz/M/EnVKJBIMDAxwenpKLBbDYZomlmXRCIkaJElia2uLUCjE3d0di4uLFAoFfkukBo/HQzQaxbZtpqamKBQK/IVIDcFgEMft7S3lcpm/cgE6VXR1dbGwsEBPTw/Ly8vIsoxlWTw9PfEbLkCnipeXF66urpienqazs5NQKMT8/DyapuH1ekmn0zTCBehU8f39zcPDAzs7O1xcXFAsFvH7/fh8PlRVZWRkhJubG0qlEvVwATp1enx8JJVKcXJyQnd3N4qiEAgEmJubo6Ojg/Pzc2pxAToNen195fDwkL29PVRVxe/3MzQ0RDwe5+vri2pE/uD9/Z2DgwMcsiwzPj5OLSJ/MDw8zOzsLI5iscjl5SW1SPyCJEmoqkoikcDr9VIsFtE0jXpI1BCLxdjd3aVCURSi0SiRSARHLpdjbW2NdDpNPSSqCIfDbGxscH19TUtLC+vr64yOjtLe3o4jnU6zurqKYRjUS6IKt9tNW1sbmUwGhyAI2LbN/f09uq6TSqUolUo0wgXo/Mfz8zOyLBMMBnFkMhni8TgrKytks1ksy6JRAmDTRCJNJtJk/wDtevON20+2iAAAAABJRU5ErkJggg==\">\n",
       "<div style=\"text-align:center\">5</div>\n",
       "</div>\n",
       "<div>\n",
       "<img src=\"data:image/png;base64,iVBORw0KGgoAAAANSUhEUgAAABwAAAAcCAYAAAByDd+UAAACY0lEQVR4Ab3BL0g7fRzA8fd9dzCY6ECr2WDQYDGIwSC447DI1CIDDXY1Tg4MosWwZBFhCAoGXTCo4J+FCUNEMMitngjChUOZWO7z48LBkGe7mw/c66UBQoIUCVMkLAVY/A9DQ0MUi0WOjo64vr7m/f2dTjRA+KNSqcT8/Dz9/f0EPM9jYGCATnS61Nvby87ODqOjo4yPjyMiBGzbxnVdouh0IZPJsLe3R6FQ4LfNzU1OT0+JotMFwzAoFAqE7u7uqFQqBJ6fn4lDJ6axsTH29/fRNI3Q1NQU3dKJ6erqir6+PkSEwNbWFn+hEyGdTmNZFtlsFhEhYNs2r6+v/IVOhPX1dTY2NgjZts309DSO4xBKp9OkUimazSZRdCKMjIzQ6vDwEMdxaGVZFsPDwzQaDarVKufn57SjE0HTNDRNQynFyckJu7u7hM7OzjBNk1Zra2sMDg7y9vbGf1FEEBFEBN/3ERECmUyGcrmMaZqICCKCiCAi+L5PsVikHUUXKpUKAcuyWFxcJOC6LsfHx9zc3BDKZrO0o+jCwsICExMT5PN5Ap+fnywtLbG8vMz39zdx6HTBMAwMwyA0OzuL53kcHByQy+WIQydCtVplbm4OpRS+79Pq9vYW3/dp9fT0xOrqKu2kAIsOHh8f+fj4YGZmBhHhNxEhUKvVqNVq5PN5PM+jnRRg0YGIUK/Xuby8xDRNenp6CGmaRuDl5YVcLke5XObn54dOFDE9PDywsrJCvV7nN8dxcF2XOFKARUyNRoOLiwuazSaTk5Pc399TKpXY3t7m6+uLODRASJAiYYqEKRKmSNg/KqP1sImY948AAAAASUVORK5CYII=\">\n",
       "<div style=\"text-align:center\">6</div>\n",
       "</div>\n",
       "<div>\n",
       "<img src=\"data:image/png;base64,iVBORw0KGgoAAAANSUhEUgAAABwAAAAcCAYAAAByDd+UAAACeElEQVR4Ab3BwSuzcQDA8e/zPD9FPDfkUVvCYQehlItcZBxWz0m5yGFFK+2C0i7aiXKYlRTlqCGXTU0xt/0Bz0mhOHBwYylqs57n7Tk8tbQ95nnr+XwkwMJHMj6T8ZkCJPlP4XCYVCpFJpOhra2Nm5sbGlGAJB5pmsbc3BxHR0cMDw9jGx8f5/X1FcMwqEfgQUdHBwsLC0SjUcbGxqilKAqqqtKIwIPLy0smJiaQJAnLsiiXy+zu7rKyssL7+zvpdJpGBH8QCoXI5XIEAgEcb29vLC0tkc1m0TSNk5MT3AiaJIQgHo8zODiI4/n5mdXVVbLZLLZoNMpvBE0IhULE43FisRi1+vr6+CtBEwYGBojFYjgKhQJ7e3t4IWjC2toajlKpRCKRwDAMvJBpQn9/P47FxUUMw8ArwS8SiQTBYBBHsVjEMTQ0xOTkJLbZ2Vl0XceWy+WYn5+nUqnwk8CFEIJgMIhlWdjS6TSfn5+MjIygqipnZ2f09PTgsCwLm67rtLa2UqlU+Engor29neXlZRwfHx9MTU1xfHxMZ2cnkiRhWRa2crlMS0sLsizjRvAHm5ub1HNxccHBwQGHh4cEAgHcCP5DPp9nf38fVVWJRCL09vZiu7u7o1qtUo/Ag+/vb1KpFNvb28zMzHB6eorj/v4eXdf5+vqiHoEHpVIJ2/n5OeFwmFrr6+s8Pj7SiMCFJEnU09XVxcbGBrIsY5omttvbWzKZDNfX17hRgCQNVKtVCoUCo6OjaJpGIw8PD0QiEfL5PKZp4kYBkjRgmiYvLy9cXV0xPT1Nd3c3tYrFIjs7O2xtbfH09EQzJMDCRzI+k/GZjM9kfPYP6tHSfKpA0egAAAAASUVORK5CYII=\">\n",
       "<div style=\"text-align:center\">6</div>\n",
       "</div>\n",
       "</div>"
      ]
     },
     "metadata": {},
     "output_type": "display_data"
    }
   ],
   "source": [
    "{\n",
    "    let start = 100;\n",
    "    let size = 32;\n",
    "    const html: string[] = [];\n",
    "    const pngs = await toPng(mnist.getTestData().images, start, size);\n",
    "    html.push('<div style=\"display:flex;flex-wrap:wrap;max-width:480px\">')\n",
    "    for (let i = 0; i < size; i++) {\n",
    "        const pred = predicted[i + start];\n",
    "        html.push('<div>');\n",
    "        html.push(`<img src=\"data:image/png;base64,${pngs[i].toString('base64')}\">`);\n",
    "        html.push(`<div style=\"text-align:center\">${pred}</div>`)\n",
    "        html.push('</div>');\n",
    "    }\n",
    "    html.push('</div>')\n",
    "    display.html(html.join('\\n'));\n",
    "}"
   ]
  },
  {
   "cell_type": "code",
   "execution_count": null,
   "metadata": {},
   "outputs": [
    {
     "data": {
      "text/html": [
       "<div style=\"display:flex;flex-wrap:wrap;max-width:480px\">\n",
       "<div style=\"border:solid black 1px;text-align:center;margin:4px\">\n",
       "<img style=\"display:inline-block\" src=\"data:image/png;base64,iVBORw0KGgoAAAANSUhEUgAAABwAAAAcCAYAAAByDd+UAAACOElEQVR4Ab3BsUsyYQDA4V8vd2RKWFoNlW02NfUXWEQl1hwEEqEGjRI4JdF6iCgNbRHlUJMQgYGEg5MgBY0uEQ5lQ4Nwgxd6HzcI36B2Z3HPMwLo2EhgM8EvOJ1O7u7uyGQymCX4hfn5eba2tojFYkxOTmKG4A98fn6iaRpmCP5AoVBAVVXMEPzC4eEhmqaRyWQwSzCkhYUF9vb2UFWVWq2GWYIhra2tMTExgaIoWCEYwszMDIlEgkajweXlJVYIhhAMBllcXKRcLtNoNBgbG2N8fBwzBBa5XC7C4TAGRVGQJImbmxuKxSIej4efSFgUj8dZXV2lVCpRrVZZX19ne3sbg8/n4+vri0EEFiwtLXFwcIDh4uKCqakpzs7OMLy/v/Px8cFPJEyQZZnNzU3Oz8+ZnZ3FkM/n2djYwO/3Y2i320iSxOjoKK1Wi35GAJ0B3G43+XyeQCCAGfV6nWg0SrFYpBfBAG63m1QqRSAQwKCqKqenpxwdHVGtVunl+/ub5eVl+pHoQ5ZlUqkUkUiErpOTE9LpNA6Hg+PjYwy6rvPy8sLj4yP39/c8PT3RbDbpR6IPv99PJBKhK5fLkc1mMezs7ODxeNB1nYeHB0KhEGZJ9JFIJOh6fX0lmUzSbrcxTE9Po+s619fX7O/vY4WgB6/Xy8rKCgZN09jd3eXt7Y2uubk5Wq0Wt7e3dDodrJDoQZZlHA4HhlAoRKVS4X+KonB1dcXz8zNWjQA6NhLYTGAzgc0ENhPY7B8orrzElSix+AAAAABJRU5ErkJggg==\">\n",
       "<div style=\"text-align:center\">Label: 4, Prediction: 2</div>\n",
       "</div>\n",
       "<div style=\"border:solid black 1px;text-align:center;margin:4px\">\n",
       "<img style=\"display:inline-block\" src=\"data:image/png;base64,iVBORw0KGgoAAAANSUhEUgAAABwAAAAcCAYAAAByDd+UAAACqUlEQVR4Ab3BvUsyAQDA4d+dFw3i1WBZQpaUqzckFbTUYP0DNRkNERQS0ZY01E1CBJE5tTgYidQSBJJUS7UKFUVDcNAgfhC2CNeg3otDIGG9RnDPIwAGJhIxmYjJREwmYjKRX1hdXeWvRFpgtVqJRqNMTU3xVyItcLvdBINBVFXlr0RasLe3x+PjI7qu81cS/+H3+5EkCUVRaGZwcJDOzk4ymQyTk5OMj4/z6f7+nrOzMxpJ/Mf09DS1Wo1GTqeT09NT6mRZpr29nWw2i91ux+Px8Ont7Y3X11dGRkb4JPIDp9OJoigsLi7i8/no7u6mLhaLIcsyHR0deDweXC4Xl5eXnJyc0Mhut1MoFGgk8YPDw0MmJiY4ODjA5XIRCAQoFouUy2VmZ2cRBAGHw0Hd9fU1fX19zMzM4Ha7aWtrI51Os7CwQCMLoNLE6OgooVCIp6cn1tbW6O/vJ5VK8f7+zvHxMcVikUKhgKZpaJpGtVqlVCoRj8cZGBjA6/Vyc3NDMpmkkcQ3lpaWsFqtHB0dkclkCAQCtMLhcBAIBPiORBObm5vMzc1xe3tLNBqlVaqqsr6+TiQSYWNjg2q1ylcSTaiqimEY1Go1KpUKrQiHw/j9fra3t0mn03x8fNCMRBOCIGAYBjabjZ6eHvL5PN/x+XwsLy8zPz9PLpcjHo+jaRrfsQAqX2xtbVHX29uLoiikUil0XaeR1+tlZWWFWCxGNpslkUiwu7vLw8MDPxEAgy9eXl7o6urCZrNRd3V1RTAYZGdnh6GhIepkWWZ/f5/z83NyuRylUolWCIBBE7FYjHK5zNjYGMPDwzSqVCpEIhESiQR3d3f8hgVQaeL5+ZlkMsnFxQV+vx+LxYKu6+i6TigUIhwOk8/n+S0BMDCRiMlETCZiMhGTiZjsH2cH9xtHpEwCAAAAAElFTkSuQmCC\">\n",
       "<div style=\"text-align:center\">Label: 6, Prediction: 0</div>\n",
       "</div>\n",
       "<div style=\"border:solid black 1px;text-align:center;margin:4px\">\n",
       "<img style=\"display:inline-block\" src=\"data:image/png;base64,iVBORw0KGgoAAAANSUhEUgAAABwAAAAcCAYAAAByDd+UAAACpElEQVR4Ab3BvUtyewDA8e95yQgyKDyQoDT0AjU4BBGUFmHmKP0HETVUNLSFk4O0SHNTk9CgEFIUNLi06Sak2ItQDgVFBQYmkf4uZxDkcM95nu6N8/lIgMBGMjaTsZmMzWRspmIQjUYRQnB1dcXp6Sm/TcUgHo8jhOD7+5tGo4EZSZKIxWJ8fX2hW1paIplMkk6nsaJiQlVVent7MSNJEolEgk6appFOp7GiYrC5uUkoFKJN0zRmZ2f5LRIgsLC4uMjFxQVG1WqV29tbdMVikdfXV46PjymVSlhR+QOPx0OnZrPJ3t4eyWSSSqXCT6lYcDqd7Ozs0Pb29sbKygpnZ2f8VwoQw0QwGGRrawtFUdAJIZBlmeXlZQYGBigUCggh+AkFiGHi7u4O3cLCArquri58Ph8+n49IJMLg4CDhcJibmxuazSbNZpNWq4UVBYhhoVqt8vz8jNvtRtM02iRJYnJykqmpKba3t9nd3WV0dJRyuczLywtmJEDwA5FIhOnpaWZmZpibm8NIkiRSqRT5fJ79/X2MFCDGD1xfX5PNZjk6OiKRSCCE4OPjg5GREXRCCCYmJggEAtRqNfL5PJ0kQPA/9fT00N/fj8fjIZVK4fV6aVMUhU4yv+Dz85PHx0ccDgdPT09YUbGwtrbG+vo6xWKR1dVV/k0gEKC7u5uNjQ2CwSBOp5O2SqWCkYoJl8tFNBplaGiIsbExLi8vKZVK6MLhMPPz8wgh8Pv9OBwOjOr1OqFQCCMVE36/H7fbja6vr4/Dw0M6ybJMq9WiU6PR4P7+nlqtRjwe5+HhASMVE5lMhlwux/j4OC6XCzP1ep3393cODg4oFAqcn59jRQIEFrxeL5lMhuHhYXQnJyfkcjnayuUy2WyWvyUBAhvJ2EzGZjI2+wfb2PPmdzlGZwAAAABJRU5ErkJggg==\">\n",
       "<div style=\"text-align:center\">Label: 3, Prediction: 5</div>\n",
       "</div>\n",
       "<div style=\"border:solid black 1px;text-align:center;margin:4px\">\n",
       "<img style=\"display:inline-block\" src=\"data:image/png;base64,iVBORw0KGgoAAAANSUhEUgAAABwAAAAcCAYAAAByDd+UAAACMUlEQVR4Ab3BPU/qUACA4fcc6lLmzji44MhmxMR/IKdhlMSByGjipBgTEhUnVhNx82uznZxJ6GIcYPPoRnQxUFccjBzjcBOHe9uCN30eARhSJEmZJGWSlFnMaDKZ4HkeQggeHh7Y398nCYsZGWMolUoIIVhbW6Pf7+N5HnEyQIMZvL6+cnt7y9LSErZts7CwwNnZGXEsZtRut/lWKBSoVqskJfkPhBAEQUASkl9SSmGMwfd9kpD8ku/7CCEIgoAkLGbkOA67u7sopdBak5RkSrlcDtu2WV9fZ2tri2w2S7lcJinJlO7v71FKsbOzgzGGZrPJ4+MjSUmm4LoujuNQr9dxHIenpyeazSbTyAANYuTzeWq1Gq1Wi7m5OU5PTwnDkGKxyOfnJ0EQkJRFjFwux+HhIUoput0u8/PzXF9fk81m0VpzcHDAYDDg6uqKJCxinJ+fs7y8zGg0Ynt7m+fnZ8IwxLZttNb4vk+9Xuf9/R3P84hjEcFxHFZWVuh2u6yurvLTeDzmW6/Xo1wuMxwOGQwG9Ho9okgiKKUwxuD7PnEqlQqLi4vEsYgQhiFvb29sbm7y8vKC53n8jeu63NzcMJlMuLy8JEoGaPAPWms+Pj4oFApsbGwghCAIAn7a29uj1WphWRZHR0d0Oh2iZIAGEe7u7uh0OriuS61WYzwe88fFxQXFYpFv1WqVk5MT4lgkoLWmUqnwUz6fp1QqcXx8TLvdJgxDkhCAIUWSlElSJknZFw7f14zfy+abAAAAAElFTkSuQmCC\">\n",
       "<div style=\"text-align:center\">Label: 8, Prediction: 2</div>\n",
       "</div>\n",
       "<div style=\"border:solid black 1px;text-align:center;margin:4px\">\n",
       "<img style=\"display:inline-block\" src=\"data:image/png;base64,iVBORw0KGgoAAAANSUhEUgAAABwAAAAcCAYAAAByDd+UAAACOUlEQVR4Ab3BP0s6cQDA4Y/fvmINihAeklBObQ6JLYEvQOQGESIbil6Ei0stOTnYEkFbWRY4HBjNEYFBQUVBW5OBUZJw9EcR7kfDQUhX3v3gnscDGLhI4DKBywQuE7hM4tDk5CS1Wo1EIoHH46FUKpHP5/mLxKa5uTkKhQLhcJiZmRkMw+D19ZX9/X2GIRlSKBRifn6e9fV1/H4/3wWDQXK5HFdXV/xF8otAIMD4+DiZTIalpSVisRj/S2JhbGyMSqVCOp1m0NHREd1ul2w2i10CC6Ojo6TTaQadn5+zvLzM4eEhTgj+sLe3h6ler1Mul+l0OiwuLuKE5BfNZpOpqSkikQhfdF3n7e2NL6lUCickFt7f31lYWMDn89FqtfhuZWUFKSVOCCx0u10ajQYnJycMqlQq9Pt9TK1Wi0KhwDAkNsViMVZXV/F6vZgMw6Df7zMMgU2hUIhMJsPp6SlOCGzq9XpsbGxwcHCAqVgsMiyBTWdnZwQCAba2tjDd398zLIFN09PTBINBTJqmcXl5iUlRFKLRKFZGgDVsuL29JZFIYPr8/ERRFHw+H/F4HFVVKZfLNBoNHh8fGTQCrGFDs9kkm81iCofDJJNJVFVldnaWu7s72u02u7u79Ho9Bklsen5+5icXFxdomoaiKOTzeXRd5ycCm9rtNsfHx2iaxsTEBKbr62s2Nzd5eHhASokVgU03NzeoqsrHxwcvLy9sb2/T6XSoVqt82dnZ4enpCSsewMBFApcJXPYPBq/FwgUo0fEAAAAASUVORK5CYII=\">\n",
       "<div style=\"text-align:center\">Label: 2, Prediction: 1</div>\n",
       "</div>\n",
       "<div style=\"border:solid black 1px;text-align:center;margin:4px\">\n",
       "<img style=\"display:inline-block\" src=\"data:image/png;base64,iVBORw0KGgoAAAANSUhEUgAAABwAAAAcCAYAAAByDd+UAAAB9UlEQVR4Ab3BsUsyYQDA4d+9nSXEIQeHo4MQ0hSaiFvYEDhIRONN7Y0OiQmBk4NCg7uLtNVfIIhj0BSCHoGD5yRNoYOE78cNByIfvh7EPY8GSEIkCJkgZIKQCUKmE4BhGNzf3+O5uroin8/TarVotVp8f3+zDw2Q7CGVSvH+/s7x8TEeTdOQUuJZLpdUKhXa7TYqB8ATCpZl0el0ODk5wadpGr5IJMLl5SX5fJ6Xlxd20VGIx+N0u10uLi7Y5ejoCMuyUNFRuLm5oVAo4Pv9/aVarTIYDLi9vaVcLhOEjsLd3R2bHMeh2WziyeVyBCUIYDQacX19jc+2bTbN53NUBAF8fX0xmUzwlEol0uk0m56fn1ER7HB2dkYikcA3nU7xnZ+fE4lE8I3HYxzHQUVnh2QySTwexxeLxYhGo9RqNR4eHpBS4nNdF9d1UdHZ4e3tjY+PD7LZLB7btrFtG48QgvV6je/x8ZF96ChIKZFSsm29XiOlJCiBQqPR4C8dAE/sMJ1O6ff7GIbBaDTi8PAQ0zTRNI1NhmHw+vqKio7CYrGg1+vR6/XwnJ6e8vn5yTbLstiHIKDZbMb/ZDIZ0uk0KoI/YpompmmiIgiZICApJavVim3j8RjHcVARBPTz80OxWGTTcDikXq/jui4qGiAJkSBkgpD9Azasn7Xao9gvAAAAAElFTkSuQmCC\">\n",
       "<div style=\"text-align:center\">Label: 8, Prediction: 9</div>\n",
       "</div>\n",
       "<div style=\"border:solid black 1px;text-align:center;margin:4px\">\n",
       "<img style=\"display:inline-block\" src=\"data:image/png;base64,iVBORw0KGgoAAAANSUhEUgAAABwAAAAcCAYAAAByDd+UAAACXUlEQVR4Ab3BT0SzcQDA8e9+PTSpp8OkjSiNLslTdEh/niiS2CGRpkuXDumQinRbt5FO3eqU8tglixJdIrHIHpHYYYcOneJZ83iq03iWHcZjerfnfb1+n08AKCORQDKBZALJBJIJJBNIpvCfhEIhWlpaqAiHw+i6zsfHB4ZhUCqVqFL4R+Pj4/T396PrOpqm0dXVhaqq1IpEIiSTSaoUfAoGg4yNjTE/P8/CwgKtra3kcjnu7u44PT3l+fmZ9/d3vIaGhnh6eiKZTFKl4ENPTw8HBwfEYjFeXl7Y3d3l+vqaQqFAPfF4nJubG7wU6mhra2NnZ4etrS0Mw2BgYIB8Po8fKysrTE9PMzs7i5fCH6iqyuXlJdFolKWlJa6urvBrYmKCubk5RkZGKJVKeAWAMjXC4TAXFxfYts3y8jLFYpG/oaoqzc3NWJZFLcEvZmZmUFWVeDxOsVikqr29nd7eXhpxHAfLsviNwi8WFxc5Pz/Htm28zs7OmJyc5P7+nnQ6TTqd5vPzE9d18asJ2KPG5uYmfX19HB8f45VKpTAMg4rV1VUODw8ZHBwkk8ngOA5+NAF71MhkMiQSCSKRCNlslu/vb6ocx8E0TU5OTjBNk+HhYfb39zFNk9fXVxppAvaoYVkWhUKBjY0N1tfXiUaj2LbN29sbVa7rks/nSaVShEIhEokEhmHw9fVFPQGgTB3b29tMTU2h6zrBYJDb21u8Ojs70TSNo6Mj1tbWaCQAlPGho6OD7u5uNE2jYnR0lIeHByoeHx/J5XK4rksjAaCMRALJBJIJJBNIJpBMINkPVkLTCCaj3CgAAAAASUVORK5CYII=\">\n",
       "<div style=\"text-align:center\">Label: 6, Prediction: 5</div>\n",
       "</div>\n",
       "<div style=\"border:solid black 1px;text-align:center;margin:4px\">\n",
       "<img style=\"display:inline-block\" src=\"data:image/png;base64,iVBORw0KGgoAAAANSUhEUgAAABwAAAAcCAYAAAByDd+UAAAB2klEQVR4Ab3BIWsyARzA4d/9ve7CEDa4YFNwYZ9A5OpAOLEpCyYxGLfgOKOM+RG2FYNwiEEuaRCbbVsSrgiGMVhQ2cKNc/diW9I7X7nnUQCfCAkREyImREyImBCxGNDkAOl0msViQT6f5/HxEd/3CUI4wNnZGd1ul5+fH+7v7/n9/SUolZCy2Sy3t7dcXFxQLBbp9XqEIexxcnLClqIo1Ot1+v0+0+mU+XzO+fk5YanscHp6ysPDA51Oh7u7O5LJJOVyGdu20XWdQ6jsUKvVKJVKXF9fY9s2uq7jOA5bk8mEQ6js0O/3+fr6wrZtHMdhs9nwl4gQlrDD29sb7Xab2WzGZrPhr+l0SqFQQFEUwhAONB6PSaVSxONxwhAOtF6vcV2XXC5HGMJ/sCyLRqOBiBBUDGgSwuXlJdVqFcMw0DSNXC5HpVLh5eWF+XzOPiohlEolnp+ficVibI1GIzzPI5FI4DgOQaiEYFkWruuyNRwOWa1WmKbJzc0N7+/vBCGE4LoulmVhWRbL5RLf92k2m6iqytXVFUEIR/D09ESr1SII4QhM00TTNDKZDPsIR/D5+cnr6yvtdpt9hCPwPA/DMEilUmiaxi7CkXx8fDAYDPj+/mYXBfCJkBCxf5N6rI2zzVrbAAAAAElFTkSuQmCC\">\n",
       "<div style=\"text-align:center\">Label: 7, Prediction: 1</div>\n",
       "</div>\n",
       "<div style=\"border:solid black 1px;text-align:center;margin:4px\">\n",
       "<img style=\"display:inline-block\" src=\"data:image/png;base64,iVBORw0KGgoAAAANSUhEUgAAABwAAAAcCAYAAAByDd+UAAACF0lEQVR4Ab3BvUsycQDA8e/9TpSGCG1JcTSCXHyZLINwcipxaAiSVkcnHf0XHGt20AbnBvGWhsJcRCWCVBpqKjFNVHx5uOFZHvTp7p6H+3wkYImJBCYTmExgMhnIskY4HKZUKnF1dcXW1hY2m414PM79/T2LxQIjZCDLCrFYjHw+j9Vqpd/vc3x8zN7eHhcXF3Q6HQaDAb1eD70kYMkKOzs7uN1uHh8fUQWDQQaDAeVyGbfbTS6XI5VKoZcMZFlhOBzy9vbGb+/v73x8fPD9/U00GqXX6+Hz+SiXy+ghA1l0qNVqbG9vc3p6itPppNVq0e120UoGsuh0e3vL4eEhBwcHOBwOCoUCWgkMUhQF1XQ6RQ+BQfP5HJUsy+gh+Ecejwc9BAY9PDygcjqdRCIRtBIYtLu7i0oIQafTQSuBQQ6HA5Xdbsfv96OVhf8gk8nw/PyMqt1uMxqNWEcCluhgs9lIJBIkk0l8Ph9/ajQaBAIBZrMZq1jQ6Pz8nJOTE8LhMC6Xi3X29/c5OjpCURRWsfCDzc1Nrq+vOTs7Q5IkVqlUKkQiEW5ubigWiyiKwjoWfiCEoN/vMx6PeXp6olQqEY/H8fv93N3dkU6naTabeL1earUa0+mUv5GAJTpdXl6Sy+V4eXkhFAoxmUzQyoIBr6+vVKtVvr6+mM1m6CEwoFKp8Pn5Sb1eZ2NjAz0kYImJBCYTmExgsl/i9bqJw4SCYAAAAABJRU5ErkJggg==\">\n",
       "<div style=\"text-align:center\">Label: 7, Prediction: 2</div>\n",
       "</div>\n",
       "<div style=\"border:solid black 1px;text-align:center;margin:4px\">\n",
       "<img style=\"display:inline-block\" src=\"data:image/png;base64,iVBORw0KGgoAAAANSUhEUgAAABwAAAAcCAYAAAByDd+UAAAB9klEQVR4Ab3BMUsyYQDA8b/Pq0PCeS7eoWCD2H2AJqElrqDB1UFQENwamyJweINoicY+gA1uQYNNxS1NB4IigoI6iYJDg3iJkOHLMwjv+JzD/X4hYEuABAETBEwQMEHAwuzh/f2d8/NzxuMx2WwWPwQ+3d3dYds22+2W6XSKXwIfdF3Htm1CoRCe53F7e4tfAh+ur6/J5XJItVoNx3GoVCo8PDygSuBDKpVCur+/5+npiYODA25ubri6uiKXy6FCoCgWi3FxcYHnedTrdX5/f7m8vMSyLH5+flitVqgQKCqVSpimieu6DIdDpFQqhfT19UW320WFQNHR0RGS4zjsnJ2d4ZfAp263i5RIJEgmk0hvb2+oEijSdR2p3+8jlctlDMNA8jwPVQIF0WiUfD7P/wqFAvsQKDg8PETTNEajEfP5nEQiQSaTYWcwGKAqjILpdMr39zfZbJZ0Ok2xWMQ0TaTNZkOr1UJVGAXL5ZJer8fp6Smvr69YlsXO8/Mz7XYbVQJFnU4HybIspPV6jXR8fEwkEkHVH+AvCsbjMZqmsVgseHx8ZDAYcHJygmEYNJtNZrMZKsIoGo1GVKtVdj4+PpAmkwmtVgtVgj2Zpon0+fmJH4I9xONxdF1Hcl0XPwR70DQNTdN4eXmh0WjgRwjYEiBBwAQB+wfE6aBxffN/dAAAAABJRU5ErkJggg==\">\n",
       "<div style=\"text-align:center\">Label: 9, Prediction: 4</div>\n",
       "</div>\n",
       "<div style=\"border:solid black 1px;text-align:center;margin:4px\">\n",
       "<img style=\"display:inline-block\" src=\"data:image/png;base64,iVBORw0KGgoAAAANSUhEUgAAABwAAAAcCAYAAAByDd+UAAACtUlEQVR4Ab3BP0gyYRzA8e9ziZBCBN4zFKRTnLcUZEVDLg2hm7X2b0qICBqLhoJCt8YWaWhp9FqiNWoMdXycbZDwWq+pfi83vPAOefZC+PkoQBgiiyGzGDKLIYvxQ1przs/PWVtbo91uE0okEiwsLPA/RoAzBnBdl8fHR1ZWVhgdHSWTyTA1NcX4+DhKKZ6fn/kpiwG01lxcXJBOp3l9feX29pZqtYpSina7TaVS4X9YDHB8fEypVEJEmJ+fZ3t7m5CIUKvVeHh4QGtNuVzGdV0GiREhk8mwsbGBUopKpYLv+4TW19e5u7vj8PAQx3F4e3tDRNjb28MYQxSLCLZtk0qlEBH+5TgOpVIJx3Go1+uICCLC8vIytm0TZQQ4o4/T01NyuRxKKbTWzMzMcH19TTKZxPd9FhcXubq6Ih6Pk8/nmZ2dZWxsjPv7e/qxiOB5HiKCiOA4Dru7u6RSKZ6enigWixhjCFUqFYwxiAiu6xIlRoRms0mr1SKXyxFqNpsYY6hWqxhj+CsIAj4+PlBKkc/niRIjQq/Xo1gskk6nCTWbTfrxPI+5uTlEhCgjwBkRgiCg2+3S7XaJ4vs++/v7hKanp/E8j+9Y/BJjDCKCiJDNZunH4hcppVBKobXGtm2+Y/GLRAQRodfr4fs+37H4RbVaDaUUyWSSRCLBdywGcF2Xk5MTXl5eGMR1XUQEEaGfGANcXl5SKBT4+vpic3MTYwyNRoNQJpPBtm3K5TKlUgmtNSJCp9MhCAK+E2MAz/NYXV1FRLi5uUFEaLVahNLpNKlUCqUUIoKIYIxha2uLfkaAMyI0Gg0+Pz9ZWloiHo8TmpycZGJigmQySUgphe/77OzscHBwQBAE9KMA4Qey2SyFQoGjoyO01ogI7+/v1Ot1fN+nVqvR6XQYRAHCEFkMmcWQWQzZH6H5FkPZD6yTAAAAAElFTkSuQmCC\">\n",
       "<div style=\"text-align:center\">Label: 9, Prediction: 5</div>\n",
       "</div>\n",
       "<div style=\"border:solid black 1px;text-align:center;margin:4px\">\n",
       "<img style=\"display:inline-block\" src=\"data:image/png;base64,iVBORw0KGgoAAAANSUhEUgAAABwAAAAcCAYAAAByDd+UAAAB1klEQVR4Ab3BsW3yQBiA4dd3lKeQAcgCZICzWcB9EFZoWQCzALJET8YISFb6yD0cDJAs8HkBRH33V39nAgmWnycCAh1SdEzRsR4NkiRht9vhvUdrTZsUDebzOd57vPe0TdHg9fWVKIpQSpEkCW3SQEEDYwzWWtI0xTmHiNAGDRQ0OJ/PPDw8MBqNmM1mVFWFiHAvDRQ0EBHKssQYg7WWNE1xziEi3CMCAjfY7XZYazkcDmRZhojwFxoouMHn5yf7/Z7FYkEcxzw+PrLf7/ktDRTc4HQ68f39TVVVDIdDFosFxhjO5zMiwq00UPALIkJZlhhjyPOcNE1xziEi3EIDBX9QVRWr1Yosy1gul1RVhYhwjQYK7nA6nXh5eSFNU5xziAg/0UDBHb6+vlitVqzXa2azGc/Pz5RlySUaKGiBMQZrLf1+H+ccIkITRUuOxyNKKZ6enhiPx1yiaJH3nhACIQQu6dGCJEnYbreEEKjrmo+PDy5R3ClJEt7f3wkh4L0nyzKcc1zS44rJZMJms+FwOPD29sZ/cRyT5zlRFBFCoK5rsizDOcdPIiDwg8FggLWWOI7J8xylFN57lFJ475lOp4QQqOsa5xzXRECgQ4qOKTqm6JiiY/8AIiLL9sO1sFAAAAAASUVORK5CYII=\">\n",
       "<div style=\"text-align:center\">Label: 5, Prediction: 3</div>\n",
       "</div>\n",
       "<div style=\"border:solid black 1px;text-align:center;margin:4px\">\n",
       "<img style=\"display:inline-block\" src=\"data:image/png;base64,iVBORw0KGgoAAAANSUhEUgAAABwAAAAcCAYAAAByDd+UAAACYElEQVR4Ab3BPUvrUACA4Tfn2EGIBSddLAhSUXCpi9KhQ6AWCi7qon9AENzrIFEc9EcIKqL4/UEddVOEFgQFwQwqGUKlOKVBqJZzcQhI6b1Ge8nzaIAiRIKQCUImCJkgZC38RSqVYm5ujlgsxqfDw0Pm5+ep1Wo0o4UGMpkMu7u76LqOL5fLsbGxwcPDA80QNLCysoKu69TLZrM0S9DAwMAAjZydndGsFhq4vLwkmUzy6e3tjZ2dHZaXl7Esi2ZJwKROpVIhmUzS1taGUgrHcdB1nVKphOd51Go1fksCJnXu7+85PT3l/PycSCSClJKZmRlmZ2dJp9N0dnbiui6lUomf0gBFAP39/WSzWQzDwDAM3t/feXp6Ymlpie3tbYKSgEkA5XKZq6srNjc3ub6+pqenh8HBQUZHR8lkMtzd3eE4Dt+RgMkPPT4+sra2xsXFBTc3N6RSKXK5HC8vLxSLRf5FAia/ZNs2hUKB9fV1JicnmZqaoquri2KxiOu6NCIBkyZVq1VWV1dJJBJMTEyQTqc5OjqiUqlQTwIm/0G1WuXg4IDu7m4Mw2BkZISTkxNc1+UrCZgEND4+zvDwMIlEAsdx8DyPrz4+Pri9vaWvr4+hoSEMw+D4+BjP8/BpgCKgvb09xsbG8JXLZfb399na2sKnaRrRaJR8Po+maViWRW9vLz4NUAQkpWR6eprFxUXa29sJSgiBTwImASmlKBQK5PN5np+faW1tJRaL8Z2FhQV8GqD4pUgkQjQa5VM8Hicej9PR0YFSCtu2sW0by7J4fX3FpwGKEAlCJgiZIGSCkP0Bihblep4O93AAAAAASUVORK5CYII=\">\n",
       "<div style=\"text-align:center\">Label: 5, Prediction: 3</div>\n",
       "</div>\n",
       "<div style=\"border:solid black 1px;text-align:center;margin:4px\">\n",
       "<img style=\"display:inline-block\" src=\"data:image/png;base64,iVBORw0KGgoAAAANSUhEUgAAABwAAAAcCAYAAAByDd+UAAACKUlEQVR4Ab3BMUgqYQDA8f9977ithILcsqmmgqYWRRviiMZwERpUjCJwcK3gbdLaEgRFRLTZkoNCkHA0tLQcVHItOtsRGE3h93A4OD7M6y3f72cAEo0Emgk0E2gm0EygmUAzgWYm/2lmZoapqSkeHh4YDAaEVatVbm9v8TyPnxiA5JcSiQQnJyfYto1hGEgpUX1+frK5ucnd3R2j/AH+EqFQKLC3t8fW1hZra2sMGYbBKJZlkU6nWVxc5Pn5Gd/3CTMZY3l5mevra+LxOLFYjN+anZ0ln89Tq9V4e3sjTPCDlZUV7u/vmZ+fJxaLEaXT6dDtdgmr1+uoTEbIZDKcnp4yMTFBlIuLC15eXnBdl2w2Sz6fZxwTxdLSEufn5yQSCcZJJpNIKWm32/i+z1A2myWKiWJycpK5uTlG8X2f19dXdnd3cV2XsGKxSLFYREpJwHVdVCaKXC6HlBLV19cXlUqFy8tLVNPT09i2zWAwINBqtSgUCqhMFDs7O0gpCTs+PqbRaNBsNlEdHByQyWRYXV0l8Pj4yPb2Np1OB5VJhI+PDxzHodlsoiqXy+zv72NZFoH393ds26bf7zOKQFGv1wmr1Wrc3NygisfjJJNJLMsi4DgOV1dX9Pt9fmKiODo6YmNjgyhnZ2esr68TcByHUqmE53mMY6L4/v6m1+sx1O12OTw8JJBKpahWqwwtLCzQ6/UIPD094XkeUQxAopFAM4FmAs0Emgk0+wcycMfWpepc+AAAAABJRU5ErkJggg==\">\n",
       "<div style=\"text-align:center\">Label: 0, Prediction: 7</div>\n",
       "</div>\n",
       "<div style=\"border:solid black 1px;text-align:center;margin:4px\">\n",
       "<img style=\"display:inline-block\" src=\"data:image/png;base64,iVBORw0KGgoAAAANSUhEUgAAABwAAAAcCAYAAAByDd+UAAACiElEQVR4Ab3BMUgyYQCA4be7L6kIwyGChKOmaJISMtKCkGoKXC6iIWqWaGqoySkaIiOPCBtqanBwFFoqiAYFh6YgsFrqiISGFDJNfxx+OI6ztOGepw2oYSMJm0nYTMJmEjaTsJmEzQR/sLi4iKIoGIVCIUZHRymVSszMzJDJZLDSBtT4wfDwMHNzcwwNDbG0tERdZ2cnsizTSKFQoKenByuCBg4PD1FVFYfDQXd3N63o6OjA6/WSzWYxk4EIBqurqySTSaanp+nq6sLhcNAqSZLo7e0lkUhgJjBYW1tjf3+fZlxcXKDrOpOTkyiKglkoFMKKwMDv9/ObdDrNysoKz8/PtLe3k0qlUBQFo2q1SjgcxorAYGFhgVqtRt3T0xPRaJRgMMjBwQH5fJ66YrHIw8MDLpeL5eVlfD4fRpVKhfX1deLxOFYEDWiahqZpaJqG2djYGFtbW8zPz2MWjUY5OjqiEYHB4+MjAwMDJBIJNE3Ditfr5fz8HKfTiZWXlxd+ImFwenpK3fb2NuVyGTNVVTk+PsbpdGL29fXFzc0Nuq7zE4HB2dkZmUyGu7s7rGxsbODxeLBye3vL1NQUvxEY5HI5crkcrdrb2yMWi9EMQQvy+TxWAoEALpeL3d1dXl9feX9/pxEZiNCky8tLAoEAbrcbI7fbzcjICOFwmGAwiN/v5+rqis/PT8xkIEKTPj4+SKVS+Hw++vr6EEJg1t/fj8fjoVgscn19jZkMRGhBoVDg5OSEt7c3ZmdnkWUZs0qlwubmJrquYyb4o3g8jq7rDA4OoqoqExMT/FetVslms1iRgQh/dH9/TzqdJplMUi6XGR8f5/v7m1KpxM7ODlbagBo2krCZhM3+AbH/4c1oDE3gAAAAAElFTkSuQmCC\">\n",
       "<div style=\"text-align:center\">Label: 2, Prediction: 7</div>\n",
       "</div>\n",
       "<div style=\"border:solid black 1px;text-align:center;margin:4px\">\n",
       "<img style=\"display:inline-block\" src=\"data:image/png;base64,iVBORw0KGgoAAAANSUhEUgAAABwAAAAcCAYAAAByDd+UAAAB20lEQVR4Ab3BMUtqYRzA4Z//N3CxpkKHwDJEcRFcxckWIQwqDuYnaIqgzckP4ODgoijo4nbATQhyK4cocAjnaCjIQVxE8HjiDBfucPG+HuE8jw+w8ZDgMcFjgscEjymgjAYR4fz8nPF4TDabxTRNFosFmxI0JRIJTNNktVqRTqfJ5/O4sYOmfD6PwzAMEokEvV4PN3bQsLe3x+3tLZ+fnzw9PWGaJm4JGk5PTzk4OKDZbPL9/c02hA0Eg0G2JWh4fX1lOp2SzWYJBAJsQ9Dw8fHBaDQiFouRTCb5l7OzM/r9PoeHh6wjaDIMA8fNzQ0iwt+i0SjVapVYLMbPzw/rCJrm8zmOYrHI3d0df2QyGR4eHjg+Puby8pLFYsE6PsBGg1KK6+trOp0OlmXx9vaGI5VKoZSiUqlQKpWwLIt1FFBGg23bvL+/4/f7icfj7O/vc3JygojQaDS4v7/Hsiz+RwFlNNm2zePjI5VKhVarxcXFBbu7u7TbbV5eXtAhuCQiKKV4fn6mXq+jS3ApEolwdHTEYDBgE4JLuVwONwSXIpEIjm63yyYEl2azGY5CocAmBJdqtRqz2YyrqytCoRC6FFDGhclkwnK5JBwOMxwO+fr6QocPsPGQ4DHBY780XJT/XEx3HAAAAABJRU5ErkJggg==\">\n",
       "<div style=\"text-align:center\">Label: 9, Prediction: 4</div>\n",
       "</div>\n",
       "<div style=\"border:solid black 1px;text-align:center;margin:4px\">\n",
       "<img style=\"display:inline-block\" src=\"data:image/png;base64,iVBORw0KGgoAAAANSUhEUgAAABwAAAAcCAYAAAByDd+UAAABlUlEQVR4Ab3BIavqUADA8b9nYlxxplmsm1EQDDaz4hQR/AA3ajEbDIJBP4J9WCyCzSBsfgEFs2lB0GTY2eOFC/LKPWf3sd8vByRkSJAxQcYEGRMouN1uuK6L67qYpslvGMCMHzQaDYbDIfP5nEKhQBiGvN9v0jCAGT/YbreEYYjjOAwGA0zTZL/fk4YBzFAQRRGVSoVms0mtVqNarVIulwmCAB15UvI8jziO0WUAMxQdj0c2mw2dTodisYjjOFiWxel04v1+o0Kgablccr1ekVIipeTr64tWq4UqQQrT6ZRPvV6PUqmECoGm9XrNZDLhk+d5WJaFCoGmIAhYLBaklSeF3W6HYRh8GwwGXC4XVAhSkFISxzFSSqSU1Ot1TNNEheA/GI/H2LaNijwa+v0+nudh2zafVqsV9/sdFXk0OI5Dt9vlX+fzmefziYo8GnK5HEII/jIMA9/3GQ6H6MijIUkSpJR8S5IEXYKMCTT4vk8YhvyGAcxQFEURh8OBdrvN4/FgNBrxer3QkQMSMiTImCBjgoz9AXMyhWaGqJGjAAAAAElFTkSuQmCC\">\n",
       "<div style=\"text-align:center\">Label: 1, Prediction: 2</div>\n",
       "</div>\n",
       "<div style=\"border:solid black 1px;text-align:center;margin:4px\">\n",
       "<img style=\"display:inline-block\" src=\"data:image/png;base64,iVBORw0KGgoAAAANSUhEUgAAABwAAAAcCAYAAAByDd+UAAACeklEQVR4Ab3BQSh7cQDA8e/WzxIXsYnFbrK0XXeYcFDK7qIQS0tyUnaYwy47M+KgHF45uDlJpFcrV23F5MCBAy4b80TvwHr/foeVtP/b3v7/3ufjAAxs5MRmTmzmxGaC/2hlZYWmpiakzs5O3G438/Pz/CRowOTkJK2trUgXFxekUikGBwfp6Ojgp5OTE34TWHR1dYXf70cIgVQoFPB4PEinp6d8f38jKYpCJpPhN4FFmqaRzWa5vb3l/v6eZDKJtL+/z8LCAuVyGTMCi4aGhpBaWlo4Ozuj4vLyknK5TC2CBoRCIZLJJOFwGMMweHl5IZ1OUw+BReFwmHg8TiQSQXp+fqa3t5d6CSxSVZXm5mYqEokEVjgAgzoMDw9zcHCA1+vlp1KphK7rqKpKLBbj6+sLMw7AwERbWxvb29uMj4/T3t6OmevrayKRCI+Pj/yNoIb19XWmp6epKBQKPD09UXF8fMzi4iJut5tAIIDL5cKMwMTAwABjY2NIb29vHB4esru7SzabpUIIgdfrJRqNUg+BiZubG9LpNP39/ezs7JDP5/mtp6eHaDRKvQQ1bGxs8DczMzPE43EqcrkcpVIJM4IGTUxMsLa2ht/vR8rlcoyOjqJpGmYEFvX19TE3N8fq6ioulwtd1zk6OmJpaQlN06hFUMXs7CzLy8tMTU3x8PCAFAwG2dvbo6urC5/Ph5TP59nc3ERRFOolqKK7u5tQKISiKHx+fiIFAgF8Ph/S+/s7mUyGWCxGsVjECkEVuq7z8fHByMgIFYZhUCwWSSQS3N3dcX5+TiMcgEEVwWAQVVXxeDy8vr6SSqXY2triXzkAAxs5sZkTmzmx2R8E1eCc2Cxw9QAAAABJRU5ErkJggg==\">\n",
       "<div style=\"text-align:center\">Label: 5, Prediction: 3</div>\n",
       "</div>\n",
       "</div>"
      ]
     },
     "metadata": {},
     "output_type": "display_data"
    }
   ],
   "source": [
    "// Sow examples the model failed to predict correct labels.\n",
    "{\n",
    "    let start = 100;\n",
    "    let size = 2000;\n",
    "    const html: string[] = [];\n",
    "    const pngs = await toPng(mnist.getTestData().images, start, size);\n",
    "    const labels = tf.argMax(mnist.getTestData().labels, 1).arraySync() as number[];\n",
    "    html.push('<div style=\"display:flex;flex-wrap:wrap;max-width:480px\">')\n",
    "    for (let i = 0; i < size; i++) {\n",
    "        const pred = predicted[i + start];\n",
    "        const label = labels[i + start];\n",
    "        if (pred === label) {\n",
    "            continue;\n",
    "        }\n",
    "        html.push('<div style=\"border:solid black 1px;text-align:center;margin:4px\">');\n",
    "        html.push(`<img style=\"display:inline-block\" src=\"data:image/png;base64,${pngs[i].toString('base64')}\">`);\n",
    "        html.push(`<div style=\"text-align:center\">Label: ${label}, Prediction: ${pred}</div>`)\n",
    "        html.push('</div>');\n",
    "    }\n",
    "    html.push('</div>')\n",
    "    display.html(html.join('\\n'));\n",
    "}"
   ]
  }
 ],
 "metadata": {
  "kernelspec": {
   "display_name": "TypeScript",
   "language": "typescript",
   "name": "tslab"
  },
  "language_info": {
   "codemirror_mode": {
    "mode": "typescript",
    "name": "javascript",
    "typescript": true
   },
   "file_extension": ".ts",
   "mimetype": "text/typescript",
   "name": "typescript",
   "version": "3.7.2"
  }
 },
 "nbformat": 4,
 "nbformat_minor": 4
}
