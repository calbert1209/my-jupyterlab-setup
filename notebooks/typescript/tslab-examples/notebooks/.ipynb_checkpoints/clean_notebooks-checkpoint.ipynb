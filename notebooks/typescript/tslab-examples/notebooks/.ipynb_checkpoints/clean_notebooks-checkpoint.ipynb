{
 "cells": [
  {
   "cell_type": "markdown",
   "metadata": {},
   "source": [
    "## clean_notebooks\n",
    "Run this notebook to clear `\"execution_count\"` field of notebooks in this repository."
   ]
  },
  {
   "cell_type": "code",
   "execution_count": null,
   "metadata": {},
   "outputs": [],
   "source": [
    "import * as fs from \"fs\";\n",
    "import * as path from \"path\";\n",
    "\n",
    "for (const name of fs.readdirSync('.')) {\n",
    "    if (!name.endsWith('.ipynb') || name === 'clean_notebooks.ipynb') {\n",
    "        continue;\n",
    "    }\n",
    "    let content = fs.readFileSync(name, {\n",
    "        encoding: 'utf8'\n",
    "    });\n",
    "    content = content.replace(/(\"execution_count\"\\s*:\\s*)\\d+/g, '$1null');\n",
    "    fs.writeFileSync(name, content);\n",
    "}"
   ]
  }
 ],
 "metadata": {
  "kernelspec": {
   "display_name": "TypeScript",
   "language": "typescript",
   "name": "tslab"
  },
  "language_info": {
   "codemirror_mode": {
    "mode": "typescript",
    "name": "javascript",
    "typescript": true
   },
   "file_extension": ".ts",
   "mimetype": "text/typescript",
   "name": "typescript",
   "version": "3.7.2"
  }
 },
 "nbformat": 4,
 "nbformat_minor": 2
}
