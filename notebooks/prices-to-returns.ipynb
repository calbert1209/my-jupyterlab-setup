{
 "cells": [
  {
   "cell_type": "markdown",
   "metadata": {},
   "source": [
    "`pip install Quandl`"
   ]
  },
  {
   "cell_type": "code",
   "execution_count": 11,
   "metadata": {},
   "outputs": [],
   "source": [
    "import quandl\n",
    "import pandas as pd \n",
    "import numpy as np"
   ]
  },
  {
   "cell_type": "code",
   "execution_count": 12,
   "metadata": {},
   "outputs": [],
   "source": [
    "quandl.ApiConfig.api_key = 'Z_QgfgMHxsFxag1kMFhe'"
   ]
  },
  {
   "cell_type": "code",
   "execution_count": 13,
   "metadata": {},
   "outputs": [],
   "source": [
    "aapl = quandl.get_table('QUOTEMEDIA/PRICES', ticker='AAPL')"
   ]
  },
  {
   "cell_type": "code",
   "execution_count": 14,
   "metadata": {},
   "outputs": [
    {
     "data": {
      "text/html": [
       "<div>\n",
       "<style scoped>\n",
       "    .dataframe tbody tr th:only-of-type {\n",
       "        vertical-align: middle;\n",
       "    }\n",
       "\n",
       "    .dataframe tbody tr th {\n",
       "        vertical-align: top;\n",
       "    }\n",
       "\n",
       "    .dataframe thead th {\n",
       "        text-align: right;\n",
       "    }\n",
       "</style>\n",
       "<table border=\"1\" class=\"dataframe\">\n",
       "  <thead>\n",
       "    <tr style=\"text-align: right;\">\n",
       "      <th></th>\n",
       "      <th>ticker</th>\n",
       "      <th>date</th>\n",
       "      <th>open</th>\n",
       "      <th>high</th>\n",
       "      <th>low</th>\n",
       "      <th>close</th>\n",
       "      <th>volume</th>\n",
       "      <th>dividend</th>\n",
       "      <th>split</th>\n",
       "      <th>adj_open</th>\n",
       "      <th>adj_high</th>\n",
       "      <th>adj_low</th>\n",
       "      <th>adj_close</th>\n",
       "      <th>adj_volume</th>\n",
       "    </tr>\n",
       "    <tr>\n",
       "      <th>None</th>\n",
       "      <th></th>\n",
       "      <th></th>\n",
       "      <th></th>\n",
       "      <th></th>\n",
       "      <th></th>\n",
       "      <th></th>\n",
       "      <th></th>\n",
       "      <th></th>\n",
       "      <th></th>\n",
       "      <th></th>\n",
       "      <th></th>\n",
       "      <th></th>\n",
       "      <th></th>\n",
       "      <th></th>\n",
       "    </tr>\n",
       "  </thead>\n",
       "  <tbody>\n",
       "    <tr>\n",
       "      <th>0</th>\n",
       "      <td>AAPL</td>\n",
       "      <td>2017-10-31</td>\n",
       "      <td>167.90</td>\n",
       "      <td>169.6499</td>\n",
       "      <td>166.94</td>\n",
       "      <td>169.04</td>\n",
       "      <td>36046828.0</td>\n",
       "      <td>0.0</td>\n",
       "      <td>1.0</td>\n",
       "      <td>39.768737</td>\n",
       "      <td>40.183218</td>\n",
       "      <td>39.541352</td>\n",
       "      <td>40.038757</td>\n",
       "      <td>144187312.0</td>\n",
       "    </tr>\n",
       "    <tr>\n",
       "      <th>1</th>\n",
       "      <td>AAPL</td>\n",
       "      <td>2017-10-30</td>\n",
       "      <td>163.89</td>\n",
       "      <td>168.0700</td>\n",
       "      <td>163.72</td>\n",
       "      <td>166.72</td>\n",
       "      <td>44700772.0</td>\n",
       "      <td>0.0</td>\n",
       "      <td>1.0</td>\n",
       "      <td>38.818930</td>\n",
       "      <td>39.809003</td>\n",
       "      <td>38.778664</td>\n",
       "      <td>39.489243</td>\n",
       "      <td>178803088.0</td>\n",
       "    </tr>\n",
       "    <tr>\n",
       "      <th>2</th>\n",
       "      <td>AAPL</td>\n",
       "      <td>2017-10-27</td>\n",
       "      <td>159.29</td>\n",
       "      <td>163.6000</td>\n",
       "      <td>158.70</td>\n",
       "      <td>163.05</td>\n",
       "      <td>44454160.0</td>\n",
       "      <td>0.0</td>\n",
       "      <td>1.0</td>\n",
       "      <td>37.729375</td>\n",
       "      <td>38.750241</td>\n",
       "      <td>37.589628</td>\n",
       "      <td>38.619968</td>\n",
       "      <td>177816640.0</td>\n",
       "    </tr>\n",
       "    <tr>\n",
       "      <th>3</th>\n",
       "      <td>AAPL</td>\n",
       "      <td>2017-10-26</td>\n",
       "      <td>157.23</td>\n",
       "      <td>157.8295</td>\n",
       "      <td>156.78</td>\n",
       "      <td>157.41</td>\n",
       "      <td>17000469.0</td>\n",
       "      <td>0.0</td>\n",
       "      <td>1.0</td>\n",
       "      <td>37.241444</td>\n",
       "      <td>37.383442</td>\n",
       "      <td>37.134858</td>\n",
       "      <td>37.284079</td>\n",
       "      <td>68001876.0</td>\n",
       "    </tr>\n",
       "    <tr>\n",
       "      <th>4</th>\n",
       "      <td>AAPL</td>\n",
       "      <td>2017-10-25</td>\n",
       "      <td>156.91</td>\n",
       "      <td>157.5500</td>\n",
       "      <td>155.27</td>\n",
       "      <td>156.41</td>\n",
       "      <td>21207098.0</td>\n",
       "      <td>0.0</td>\n",
       "      <td>1.0</td>\n",
       "      <td>37.165649</td>\n",
       "      <td>37.317240</td>\n",
       "      <td>36.777200</td>\n",
       "      <td>37.047220</td>\n",
       "      <td>84828392.0</td>\n",
       "    </tr>\n",
       "  </tbody>\n",
       "</table>\n",
       "</div>"
      ],
      "text/plain": [
       "     ticker       date    open      high     low   close      volume  \\\n",
       "None                                                                   \n",
       "0      AAPL 2017-10-31  167.90  169.6499  166.94  169.04  36046828.0   \n",
       "1      AAPL 2017-10-30  163.89  168.0700  163.72  166.72  44700772.0   \n",
       "2      AAPL 2017-10-27  159.29  163.6000  158.70  163.05  44454160.0   \n",
       "3      AAPL 2017-10-26  157.23  157.8295  156.78  157.41  17000469.0   \n",
       "4      AAPL 2017-10-25  156.91  157.5500  155.27  156.41  21207098.0   \n",
       "\n",
       "      dividend  split   adj_open   adj_high    adj_low  adj_close   adj_volume  \n",
       "None                                                                            \n",
       "0          0.0    1.0  39.768737  40.183218  39.541352  40.038757  144187312.0  \n",
       "1          0.0    1.0  38.818930  39.809003  38.778664  39.489243  178803088.0  \n",
       "2          0.0    1.0  37.729375  38.750241  37.589628  38.619968  177816640.0  \n",
       "3          0.0    1.0  37.241444  37.383442  37.134858  37.284079   68001876.0  \n",
       "4          0.0    1.0  37.165649  37.317240  36.777200  37.047220   84828392.0  "
      ]
     },
     "execution_count": 14,
     "metadata": {},
     "output_type": "execute_result"
    }
   ],
   "source": [
    "aapl.head()"
   ]
  },
  {
   "cell_type": "markdown",
   "metadata": {},
   "source": [
    "select the `date` and `adj_close` columns"
   ]
  },
  {
   "cell_type": "code",
   "execution_count": 24,
   "metadata": {},
   "outputs": [],
   "source": [
    "df = aapl.loc[:, ['date','adj_close']]"
   ]
  },
  {
   "cell_type": "code",
   "execution_count": 25,
   "metadata": {},
   "outputs": [
    {
     "data": {
      "text/html": [
       "<div>\n",
       "<style scoped>\n",
       "    .dataframe tbody tr th:only-of-type {\n",
       "        vertical-align: middle;\n",
       "    }\n",
       "\n",
       "    .dataframe tbody tr th {\n",
       "        vertical-align: top;\n",
       "    }\n",
       "\n",
       "    .dataframe thead th {\n",
       "        text-align: right;\n",
       "    }\n",
       "</style>\n",
       "<table border=\"1\" class=\"dataframe\">\n",
       "  <thead>\n",
       "    <tr style=\"text-align: right;\">\n",
       "      <th></th>\n",
       "      <th>date</th>\n",
       "      <th>adj_close</th>\n",
       "    </tr>\n",
       "    <tr>\n",
       "      <th>None</th>\n",
       "      <th></th>\n",
       "      <th></th>\n",
       "    </tr>\n",
       "  </thead>\n",
       "  <tbody>\n",
       "    <tr>\n",
       "      <th>37</th>\n",
       "      <td>2017-09-08</td>\n",
       "      <td>37.573048</td>\n",
       "    </tr>\n",
       "    <tr>\n",
       "      <th>38</th>\n",
       "      <td>2017-09-07</td>\n",
       "      <td>38.195989</td>\n",
       "    </tr>\n",
       "    <tr>\n",
       "      <th>39</th>\n",
       "      <td>2017-09-06</td>\n",
       "      <td>38.349948</td>\n",
       "    </tr>\n",
       "    <tr>\n",
       "      <th>40</th>\n",
       "      <td>2017-09-05</td>\n",
       "      <td>38.390214</td>\n",
       "    </tr>\n",
       "    <tr>\n",
       "      <th>41</th>\n",
       "      <td>2017-09-01</td>\n",
       "      <td>38.856827</td>\n",
       "    </tr>\n",
       "  </tbody>\n",
       "</table>\n",
       "</div>"
      ],
      "text/plain": [
       "           date  adj_close\n",
       "None                      \n",
       "37   2017-09-08  37.573048\n",
       "38   2017-09-07  38.195989\n",
       "39   2017-09-06  38.349948\n",
       "40   2017-09-05  38.390214\n",
       "41   2017-09-01  38.856827"
      ]
     },
     "execution_count": 25,
     "metadata": {},
     "output_type": "execute_result"
    }
   ],
   "source": [
    "df.tail()"
   ]
  },
  {
   "cell_type": "markdown",
   "metadata": {},
   "source": [
    "Calculate the simple and log returns using the adjusted close prices"
   ]
  },
  {
   "cell_type": "code",
   "execution_count": 26,
   "metadata": {},
   "outputs": [],
   "source": [
    "df['simple_rtn'] = df.adj_close.pct_change()\n",
    "df['log_rtn'] = np.log(df.adj_close/df.adj_close.shift(1))"
   ]
  },
  {
   "cell_type": "markdown",
   "metadata": {},
   "source": [
    "> #### How it works\n",
    "> To calculate the simple returns, we used the pct_change method of pandas Series/DataFrame, which calculates the percentage change between the current and prior element (we can specify the number of lags, but for this specific case, the default value of 1 suffices).\n",
    "> \n",
    "> To calculate the log returns, we followed the formula given in the introduction to this recipe. When dividing each element of the series by its lagged value, we used the `shift` method with a value of 1 to access the prior element. In the end, we took the natural logarithm of the divided values by using `np.log`."
   ]
  },
  {
   "cell_type": "code",
   "execution_count": 28,
   "metadata": {},
   "outputs": [
    {
     "data": {
      "text/html": [
       "<div>\n",
       "<style scoped>\n",
       "    .dataframe tbody tr th:only-of-type {\n",
       "        vertical-align: middle;\n",
       "    }\n",
       "\n",
       "    .dataframe tbody tr th {\n",
       "        vertical-align: top;\n",
       "    }\n",
       "\n",
       "    .dataframe thead th {\n",
       "        text-align: right;\n",
       "    }\n",
       "</style>\n",
       "<table border=\"1\" class=\"dataframe\">\n",
       "  <thead>\n",
       "    <tr style=\"text-align: right;\">\n",
       "      <th></th>\n",
       "      <th>date</th>\n",
       "      <th>adj_close</th>\n",
       "      <th>simple_rtn</th>\n",
       "      <th>log_rtn</th>\n",
       "    </tr>\n",
       "    <tr>\n",
       "      <th>None</th>\n",
       "      <th></th>\n",
       "      <th></th>\n",
       "      <th></th>\n",
       "      <th></th>\n",
       "    </tr>\n",
       "  </thead>\n",
       "  <tbody>\n",
       "    <tr>\n",
       "      <th>37</th>\n",
       "      <td>2017-09-08</td>\n",
       "      <td>37.573048</td>\n",
       "      <td>-0.017771</td>\n",
       "      <td>-0.017931</td>\n",
       "    </tr>\n",
       "    <tr>\n",
       "      <th>38</th>\n",
       "      <td>2017-09-07</td>\n",
       "      <td>38.195989</td>\n",
       "      <td>0.016579</td>\n",
       "      <td>0.016444</td>\n",
       "    </tr>\n",
       "    <tr>\n",
       "      <th>39</th>\n",
       "      <td>2017-09-06</td>\n",
       "      <td>38.349948</td>\n",
       "      <td>0.004031</td>\n",
       "      <td>0.004023</td>\n",
       "    </tr>\n",
       "    <tr>\n",
       "      <th>40</th>\n",
       "      <td>2017-09-05</td>\n",
       "      <td>38.390214</td>\n",
       "      <td>0.001050</td>\n",
       "      <td>0.001049</td>\n",
       "    </tr>\n",
       "    <tr>\n",
       "      <th>41</th>\n",
       "      <td>2017-09-01</td>\n",
       "      <td>38.856827</td>\n",
       "      <td>0.012154</td>\n",
       "      <td>0.012081</td>\n",
       "    </tr>\n",
       "  </tbody>\n",
       "</table>\n",
       "</div>"
      ],
      "text/plain": [
       "           date  adj_close  simple_rtn   log_rtn\n",
       "None                                            \n",
       "37   2017-09-08  37.573048   -0.017771 -0.017931\n",
       "38   2017-09-07  38.195989    0.016579  0.016444\n",
       "39   2017-09-06  38.349948    0.004031  0.004023\n",
       "40   2017-09-05  38.390214    0.001050  0.001049\n",
       "41   2017-09-01  38.856827    0.012154  0.012081"
      ]
     },
     "execution_count": 28,
     "metadata": {},
     "output_type": "execute_result"
    }
   ],
   "source": [
    "df.tail()"
   ]
  },
  {
   "cell_type": "markdown",
   "metadata": {},
   "source": [
    "## Calculate Frequency"
   ]
  },
  {
   "cell_type": "markdown",
   "metadata": {},
   "source": [
    "Define the function for calculating the realized volatility:"
   ]
  },
  {
   "cell_type": "code",
   "execution_count": 30,
   "metadata": {},
   "outputs": [],
   "source": [
    "def realized_volatility(x):\n",
    "    return np.sqrt(np.sum(x**2))"
   ]
  },
  {
   "cell_type": "markdown",
   "metadata": {},
   "source": [
    "Calculate the monthly realized volatility:"
   ]
  },
  {
   "cell_type": "code",
   "execution_count": null,
   "metadata": {},
   "outputs": [],
   "source": []
  },
  {
   "cell_type": "code",
   "execution_count": null,
   "metadata": {},
   "outputs": [],
   "source": []
  }
 ],
 "metadata": {
  "kernelspec": {
   "display_name": "Python 3",
   "language": "python",
   "name": "python3"
  },
  "language_info": {
   "codemirror_mode": {
    "name": "ipython",
    "version": 3
   },
   "file_extension": ".py",
   "mimetype": "text/x-python",
   "name": "python",
   "nbconvert_exporter": "python",
   "pygments_lexer": "ipython3",
   "version": "3.7.0"
  }
 },
 "nbformat": 4,
 "nbformat_minor": 2
}
