{
 "cells": [
  {
   "cell_type": "code",
   "execution_count": null,
   "metadata": {},
   "outputs": [],
   "source": [
    "filename = \"./SPY.csv\""
   ]
  },
  {
   "cell_type": "markdown",
   "metadata": {},
   "source": [
    "## load as file"
   ]
  },
  {
   "cell_type": "code",
   "execution_count": 2,
   "metadata": {},
   "outputs": [
    {
     "name": "stdout",
     "output_type": "stream",
     "text": [
      "date,open,close,low,high,volume\n",
      "2010-01-04,112.37,113.33,111.51,113.39,118944600\n",
      "2010-01-05,113.26,113.63,112.85,113.68,111579900\n",
      "2010-01-06,113.52,113.71,113.43,113.99,116074400\n",
      "2010-01-07,113.5,114.19,113.18,114.33,131091100\n"
     ]
    }
   ],
   "source": [
    "with open(filename, 'r') as f:\n",
    "    for _ in range(5):\n",
    "        print(f.readline(), end='') "
   ]
  },
  {
   "cell_type": "markdown",
   "metadata": {},
   "source": [
    "## load as csv"
   ]
  },
  {
   "cell_type": "code",
   "execution_count": null,
   "metadata": {},
   "outputs": [],
   "source": [
    "import csv"
   ]
  },
  {
   "cell_type": "code",
   "execution_count": 4,
   "metadata": {},
   "outputs": [],
   "source": [
    "csv_reader = csv.reader(open(filename, 'r'))"
   ]
  },
  {
   "cell_type": "code",
   "execution_count": 5,
   "metadata": {},
   "outputs": [],
   "source": [
    "data = list(csv_reader)"
   ]
  },
  {
   "cell_type": "code",
   "execution_count": 6,
   "metadata": {},
   "outputs": [
    {
     "data": {
      "text/plain": [
       "[['date', 'open', 'close', 'low', 'high', 'volume'],\n",
       " ['2010-01-04', '112.37', '113.33', '111.51', '113.39', '118944600'],\n",
       " ['2010-01-05', '113.26', '113.63', '112.85', '113.68', '111579900'],\n",
       " ['2010-01-06', '113.52', '113.71', '113.43', '113.99', '116074400'],\n",
       " ['2010-01-07', '113.5', '114.19', '113.18', '114.33', '131091100']]"
      ]
     },
     "execution_count": 6,
     "metadata": {},
     "output_type": "execute_result"
    }
   ],
   "source": [
    "data[:5]"
   ]
  },
  {
   "cell_type": "markdown",
   "metadata": {},
   "source": [
    "## read as csv via dictionary reader"
   ]
  },
  {
   "cell_type": "code",
   "execution_count": 8,
   "metadata": {},
   "outputs": [],
   "source": [
    "csv_reader = csv.DictReader(open(filename, 'r'))"
   ]
  },
  {
   "cell_type": "code",
   "execution_count": 9,
   "metadata": {},
   "outputs": [],
   "source": [
    "dictData = list(csv_reader)"
   ]
  },
  {
   "cell_type": "code",
   "execution_count": 10,
   "metadata": {},
   "outputs": [
    {
     "data": {
      "text/plain": [
       "[{'date': '2010-01-04',\n",
       "  'open': '112.37',\n",
       "  'close': '113.33',\n",
       "  'low': '111.51',\n",
       "  'high': '113.39',\n",
       "  'volume': '118944600'},\n",
       " {'date': '2010-01-05',\n",
       "  'open': '113.26',\n",
       "  'close': '113.63',\n",
       "  'low': '112.85',\n",
       "  'high': '113.68',\n",
       "  'volume': '111579900'},\n",
       " {'date': '2010-01-06',\n",
       "  'open': '113.52',\n",
       "  'close': '113.71',\n",
       "  'low': '113.43',\n",
       "  'high': '113.99',\n",
       "  'volume': '116074400'}]"
      ]
     },
     "execution_count": 10,
     "metadata": {},
     "output_type": "execute_result"
    }
   ],
   "source": [
    " dictData[:3]"
   ]
  },
  {
   "cell_type": "markdown",
   "metadata": {},
   "source": [
    "## aggregate data from dictionary"
   ]
  },
  {
   "cell_type": "code",
   "execution_count": 12,
   "metadata": {},
   "outputs": [
    {
     "data": {
      "text/plain": [
       "196.25959181240114"
      ]
     },
     "execution_count": 12,
     "metadata": {},
     "output_type": "execute_result"
    }
   ],
   "source": [
    " sum([float(l['close']) for l in dictData]) / len(dictData)"
   ]
  },
  {
   "cell_type": "markdown",
   "metadata": {},
   "source": [
    "## read data via pandas"
   ]
  },
  {
   "cell_type": "code",
   "execution_count": 13,
   "metadata": {},
   "outputs": [],
   "source": [
    "import pandas as pd"
   ]
  },
  {
   "cell_type": "code",
   "execution_count": 17,
   "metadata": {},
   "outputs": [],
   "source": [
    "dataFrame = pd.read_csv(filename, index_col=0, parse_dates=True)"
   ]
  },
  {
   "cell_type": "code",
   "execution_count": 18,
   "metadata": {},
   "outputs": [
    {
     "name": "stdout",
     "output_type": "stream",
     "text": [
      "<class 'pandas.core.frame.DataFrame'>\n",
      "DatetimeIndex: 2516 entries, 2010-01-04 to 2019-12-31\n",
      "Data columns (total 5 columns):\n",
      " #   Column  Non-Null Count  Dtype  \n",
      "---  ------  --------------  -----  \n",
      " 0   open    2516 non-null   float64\n",
      " 1   close   2516 non-null   float64\n",
      " 2   low     2516 non-null   float64\n",
      " 3   high    2516 non-null   float64\n",
      " 4   volume  2516 non-null   int64  \n",
      "dtypes: float64(4), int64(1)\n",
      "memory usage: 117.9 KB\n"
     ]
    }
   ],
   "source": [
    "dataFrame.info()"
   ]
  },
  {
   "cell_type": "markdown",
   "metadata": {},
   "source": [
    "### data frame head, tail"
   ]
  },
  {
   "cell_type": "code",
   "execution_count": 19,
   "metadata": {},
   "outputs": [
    {
     "data": {
      "text/html": [
       "<div>\n",
       "<style scoped>\n",
       "    .dataframe tbody tr th:only-of-type {\n",
       "        vertical-align: middle;\n",
       "    }\n",
       "\n",
       "    .dataframe tbody tr th {\n",
       "        vertical-align: top;\n",
       "    }\n",
       "\n",
       "    .dataframe thead th {\n",
       "        text-align: right;\n",
       "    }\n",
       "</style>\n",
       "<table border=\"1\" class=\"dataframe\">\n",
       "  <thead>\n",
       "    <tr style=\"text-align: right;\">\n",
       "      <th></th>\n",
       "      <th>open</th>\n",
       "      <th>close</th>\n",
       "      <th>low</th>\n",
       "      <th>high</th>\n",
       "      <th>volume</th>\n",
       "    </tr>\n",
       "    <tr>\n",
       "      <th>date</th>\n",
       "      <th></th>\n",
       "      <th></th>\n",
       "      <th></th>\n",
       "      <th></th>\n",
       "      <th></th>\n",
       "    </tr>\n",
       "  </thead>\n",
       "  <tbody>\n",
       "    <tr>\n",
       "      <th>2010-01-04</th>\n",
       "      <td>112.37</td>\n",
       "      <td>113.33</td>\n",
       "      <td>111.51</td>\n",
       "      <td>113.39</td>\n",
       "      <td>118944600</td>\n",
       "    </tr>\n",
       "    <tr>\n",
       "      <th>2010-01-05</th>\n",
       "      <td>113.26</td>\n",
       "      <td>113.63</td>\n",
       "      <td>112.85</td>\n",
       "      <td>113.68</td>\n",
       "      <td>111579900</td>\n",
       "    </tr>\n",
       "    <tr>\n",
       "      <th>2010-01-06</th>\n",
       "      <td>113.52</td>\n",
       "      <td>113.71</td>\n",
       "      <td>113.43</td>\n",
       "      <td>113.99</td>\n",
       "      <td>116074400</td>\n",
       "    </tr>\n",
       "    <tr>\n",
       "      <th>2010-01-07</th>\n",
       "      <td>113.50</td>\n",
       "      <td>114.19</td>\n",
       "      <td>113.18</td>\n",
       "      <td>114.33</td>\n",
       "      <td>131091100</td>\n",
       "    </tr>\n",
       "    <tr>\n",
       "      <th>2010-01-08</th>\n",
       "      <td>113.89</td>\n",
       "      <td>114.57</td>\n",
       "      <td>113.66</td>\n",
       "      <td>114.62</td>\n",
       "      <td>126402800</td>\n",
       "    </tr>\n",
       "  </tbody>\n",
       "</table>\n",
       "</div>"
      ],
      "text/plain": [
       "              open   close     low    high     volume\n",
       "date                                                 \n",
       "2010-01-04  112.37  113.33  111.51  113.39  118944600\n",
       "2010-01-05  113.26  113.63  112.85  113.68  111579900\n",
       "2010-01-06  113.52  113.71  113.43  113.99  116074400\n",
       "2010-01-07  113.50  114.19  113.18  114.33  131091100\n",
       "2010-01-08  113.89  114.57  113.66  114.62  126402800"
      ]
     },
     "execution_count": 19,
     "metadata": {},
     "output_type": "execute_result"
    }
   ],
   "source": [
    "dataFrame.head()"
   ]
  },
  {
   "cell_type": "code",
   "execution_count": 20,
   "metadata": {},
   "outputs": [
    {
     "data": {
      "text/html": [
       "<div>\n",
       "<style scoped>\n",
       "    .dataframe tbody tr th:only-of-type {\n",
       "        vertical-align: middle;\n",
       "    }\n",
       "\n",
       "    .dataframe tbody tr th {\n",
       "        vertical-align: top;\n",
       "    }\n",
       "\n",
       "    .dataframe thead th {\n",
       "        text-align: right;\n",
       "    }\n",
       "</style>\n",
       "<table border=\"1\" class=\"dataframe\">\n",
       "  <thead>\n",
       "    <tr style=\"text-align: right;\">\n",
       "      <th></th>\n",
       "      <th>open</th>\n",
       "      <th>close</th>\n",
       "      <th>low</th>\n",
       "      <th>high</th>\n",
       "      <th>volume</th>\n",
       "    </tr>\n",
       "    <tr>\n",
       "      <th>date</th>\n",
       "      <th></th>\n",
       "      <th></th>\n",
       "      <th></th>\n",
       "      <th></th>\n",
       "      <th></th>\n",
       "    </tr>\n",
       "  </thead>\n",
       "  <tbody>\n",
       "    <tr>\n",
       "      <th>2019-12-24</th>\n",
       "      <td>321.47</td>\n",
       "      <td>321.23</td>\n",
       "      <td>320.90</td>\n",
       "      <td>321.52</td>\n",
       "      <td>20258042</td>\n",
       "    </tr>\n",
       "    <tr>\n",
       "      <th>2019-12-26</th>\n",
       "      <td>321.65</td>\n",
       "      <td>322.94</td>\n",
       "      <td>321.64</td>\n",
       "      <td>322.95</td>\n",
       "      <td>29573883</td>\n",
       "    </tr>\n",
       "    <tr>\n",
       "      <th>2019-12-27</th>\n",
       "      <td>323.74</td>\n",
       "      <td>322.86</td>\n",
       "      <td>322.28</td>\n",
       "      <td>323.80</td>\n",
       "      <td>37791481</td>\n",
       "    </tr>\n",
       "    <tr>\n",
       "      <th>2019-12-30</th>\n",
       "      <td>322.95</td>\n",
       "      <td>321.08</td>\n",
       "      <td>320.55</td>\n",
       "      <td>323.10</td>\n",
       "      <td>45643299</td>\n",
       "    </tr>\n",
       "    <tr>\n",
       "      <th>2019-12-31</th>\n",
       "      <td>320.53</td>\n",
       "      <td>321.86</td>\n",
       "      <td>320.15</td>\n",
       "      <td>322.13</td>\n",
       "      <td>44351029</td>\n",
       "    </tr>\n",
       "  </tbody>\n",
       "</table>\n",
       "</div>"
      ],
      "text/plain": [
       "              open   close     low    high    volume\n",
       "date                                                \n",
       "2019-12-24  321.47  321.23  320.90  321.52  20258042\n",
       "2019-12-26  321.65  322.94  321.64  322.95  29573883\n",
       "2019-12-27  323.74  322.86  322.28  323.80  37791481\n",
       "2019-12-30  322.95  321.08  320.55  323.10  45643299\n",
       "2019-12-31  320.53  321.86  320.15  322.13  44351029"
      ]
     },
     "execution_count": 20,
     "metadata": {},
     "output_type": "execute_result"
    }
   ],
   "source": [
    "dataFrame.tail()"
   ]
  },
  {
   "cell_type": "markdown",
   "metadata": {},
   "source": [
    "### calculate mean close"
   ]
  },
  {
   "cell_type": "code",
   "execution_count": 21,
   "metadata": {},
   "outputs": [
    {
     "data": {
      "text/plain": [
       "196.2595918124006"
      ]
     },
     "execution_count": 21,
     "metadata": {},
     "output_type": "execute_result"
    }
   ],
   "source": [
    "dataFrame['close'].mean()"
   ]
  },
  {
   "cell_type": "markdown",
   "metadata": {},
   "source": [
    "### export data frame to json"
   ]
  },
  {
   "cell_type": "code",
   "execution_count": 22,
   "metadata": {},
   "outputs": [],
   "source": [
    "# dataFrame.to_json('./spy.json')"
   ]
  },
  {
   "cell_type": "code",
   "execution_count": null,
   "metadata": {},
   "outputs": [],
   "source": []
  }
 ],
 "metadata": {
  "kernelspec": {
   "display_name": "Python 3",
   "language": "python",
   "name": "python3"
  },
  "language_info": {
   "codemirror_mode": {
    "name": "ipython",
    "version": 3
   },
   "file_extension": ".py",
   "mimetype": "text/x-python",
   "name": "python",
   "nbconvert_exporter": "python",
   "pygments_lexer": "ipython3",
   "version": "3.8.2"
  }
 },
 "nbformat": 4,
 "nbformat_minor": 4
}

